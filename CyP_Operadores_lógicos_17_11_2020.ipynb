{
  "nbformat": 4,
  "nbformat_minor": 0,
  "metadata": {
    "colab": {
      "name": "CyP Operadores lógicos  17/11/2020",
      "provenance": [],
      "authorship_tag": "ABX9TyMb5aH0gtzQVckSojiFJIRR",
      "include_colab_link": true
    },
    "kernelspec": {
      "name": "python3",
      "display_name": "Python 3"
    }
  },
  "cells": [
    {
      "cell_type": "markdown",
      "metadata": {
        "id": "view-in-github",
        "colab_type": "text"
      },
      "source": [
        "<a href=\"https://colab.research.google.com/github/AlanHDLR/cyp_2021/blob/main/CyP_Operadores_l%C3%B3gicos_17_11_2020.ipynb\" target=\"_parent\"><img src=\"https://colab.research.google.com/assets/colab-badge.svg\" alt=\"Open In Colab\"/></a>"
      ]
    },
    {
      "cell_type": "code",
      "metadata": {
        "colab": {
          "base_uri": "https://localhost:8080/"
        },
        "id": "pMGoTCE2aFUY",
        "outputId": "dd92b73c-4933-4a75-9e99-3e68e82bff08"
      },
      "source": [
        "edad = 15\n",
        "estatura = 1.67\n",
        "a = 10\n",
        "b = 3\n",
        "\n",
        "c = 2 ** b + 2 + 3 + 4\n",
        "\n",
        "print (c)\n",
        "\n",
        "e = estatura * 2.0\n",
        "print (e)\n",
        "\n",
        "f= a / b #En python se hace el calculo exacto\n",
        "print (f) #3.33333\n",
        "\n",
        "#Tambien podemos forzar el circulo de enteros\n",
        "\n",
        "g = a //b\n",
        "print (\"g=\",g)\n",
        "\n",
        "h = a % b\n",
        "print (\"h=\", h)\n",
        "\n",
        "num = 10\n",
        "print (\"Es par num ?\", (num % 2) ==0)"
      ],
      "execution_count": 1,
      "outputs": [
        {
          "output_type": "stream",
          "text": [
            "17\n",
            "3.34\n",
            "3.3333333333333335\n",
            "g= 3\n",
            "h= 1\n",
            "Es par num ? True\n"
          ],
          "name": "stdout"
        }
      ]
    },
    {
      "cell_type": "code",
      "metadata": {
        "colab": {
          "base_uri": "https://localhost:8080/"
        },
        "id": "2e8_0PA5baoU",
        "outputId": "25ae950b-ad79-4a6e-82d3-8f5876997b0d"
      },
      "source": [
        "ecuacion= 9 + 7 * 8 - 36/5 # 9 + 56 -7.2 --> 65 - 7.2 = 57.8\n",
        "print(ecuacion)\n",
        "\n",
        "ecuacion= 0\n",
        "ecuacion = (9 + 7) * 8 - 36/5 # 128 - 7.2\n",
        "print(ecuacion)\n",
        "\n",
        "ecuacion= 0\n",
        "ecuacion= 9 + 7 * (8 - 36)/5 \n",
        "print(ecuacion)\n"
      ],
      "execution_count": 2,
      "outputs": [
        {
          "output_type": "stream",
          "text": [
            "57.8\n"
          ],
          "name": "stdout"
        }
      ]
    },
    {
      "cell_type": "code",
      "metadata": {
        "colab": {
          "base_uri": "https://localhost:8080/"
        },
        "id": "2QKS4mgsb3ps",
        "outputId": "09ad3881-c342-43f7-a5e7-662b0b0e5100"
      },
      "source": [
        "#Operadores logicos\n",
        "\n",
        "valor = (4 == 4)  #True\n",
        "print(valor)\n"
      ],
      "execution_count": 4,
      "outputs": [
        {
          "output_type": "stream",
          "text": [
            "True\n"
          ],
          "name": "stdout"
        }
      ]
    },
    {
      "cell_type": "code",
      "metadata": {
        "id": "v8x_R2-3gT-F"
      },
      "source": [
        "#operadores logicos --> True o False\n",
        "\n",
        "x= 5\n",
        "y= 4\n",
        "valor = (x == y) #Son iguales? --> False\n",
        "print(valor)\n",
        "\n",
        "valor = (x != y) #Son diferentes? --> True\n",
        "print(valor)\n",
        "\n",
        "valor= (x < y) #x es menor que y? --> False\n",
        "print(valor)\n",
        "\n",
        "valor= (x > y) #x es mayor que y? --> True\n",
        "print(valor)\n",
        "\n",
        "y= 5\n",
        "valor= (x <= y) #x es menor o igual que y? --> True\n",
        "print(valor)\n",
        "\n",
        "valor= (x >= y) #x es mayor o igual que y? --> True\n",
        "print(valor)"
      ],
      "execution_count": null,
      "outputs": []
    },
    {
      "cell_type": "code",
      "metadata": {
        "colab": {
          "base_uri": "https://localhost:8080/"
        },
        "id": "mOY3eb-tjrB8",
        "outputId": "6c124a2c-74da-4f92-a42a-2f4ad79e7008"
      },
      "source": [
        "costo_chetos = 7.0\n",
        "tienda_abierta = False\n",
        "capital_en_bolsa = 10\n",
        "\n",
        "se_compra = (costo_chetos < capital_en_bolsa) and (tienda_abierta == True)\n",
        "print (se_compra)\n"
      ],
      "execution_count": 5,
      "outputs": [
        {
          "output_type": "stream",
          "text": [
            "False\n"
          ],
          "name": "stdout"
        }
      ]
    }
  ]
}