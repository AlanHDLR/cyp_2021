{
  "nbformat": 4,
  "nbformat_minor": 0,
  "metadata": {
    "colab": {
      "name": "Tarea_6",
      "provenance": [],
      "authorship_tag": "ABX9TyMRULdE4gq3c/LldOIXeVcK",
      "include_colab_link": true
    },
    "kernelspec": {
      "name": "python3",
      "display_name": "Python 3"
    }
  },
  "cells": [
    {
      "cell_type": "markdown",
      "metadata": {
        "id": "view-in-github",
        "colab_type": "text"
      },
      "source": [
        "<a href=\"https://colab.research.google.com/github/AlanHDLR/cyp_2021/blob/main/Tarea_6.ipynb\" target=\"_parent\"><img src=\"https://colab.research.google.com/assets/colab-badge.svg\" alt=\"Open In Colab\"/></a>"
      ]
    },
    {
      "cell_type": "code",
      "metadata": {
        "colab": {
          "base_uri": "https://localhost:8080/"
        },
        "id": "xNpC_egK6ffj",
        "outputId": "015e58bd-0230-488c-d03c-826f9503d8c4"
      },
      "source": [
        "#Problema 3.3\r\n",
        "dato = int(input(\"Numero final: \"))\r\n",
        "if dato < 1 :\r\n",
        "    print(\"Solo numeros positivos mayores a cero.\")\r\n",
        "else :\r\n",
        "    i = 1\r\n",
        "    flag = True\r\n",
        "    cadenaD = \"\"\r\n",
        "    cadenaF = \"\"\r\n",
        "    while i <= dato :\r\n",
        "        aux = 1/i\r\n",
        "        cadenaD += (\"{0:.2f}\".format(1/i)) if flag else (\"{0:.2f}\".format(-(1/i)))\r\n",
        "        cadenaD += (\", \") if i < dato else \"\"\r\n",
        "        cadenaF += (f\"1/{i}\") if flag else (f\"-1/{i}\")\r\n",
        "        cadenaF += (\", \") if i < dato else \"\"\r\n",
        "        flag = not flag\r\n",
        "        i += 1\r\n",
        "    print(cadenaD)\r\n",
        "    print(cadenaF)"
      ],
      "execution_count": 13,
      "outputs": [
        {
          "output_type": "stream",
          "text": [
            "Numero final: 9\n",
            "1.00, -0.50, 0.33, -0.25, 0.20, -0.17, 0.14, -0.12, 0.11\n",
            "1/1, -1/2, 1/3, -1/4, 1/5, -1/6, 1/7, -1/8, 1/9\n"
          ],
          "name": "stdout"
        }
      ]
    },
    {
      "cell_type": "code",
      "metadata": {
        "colab": {
          "base_uri": "https://localhost:8080/"
        },
        "id": "xHVvd_nt7taH",
        "outputId": "1da9a86a-9f9d-4fc4-8698-3f4442cfb3e1"
      },
      "source": [
        "#Problema 3.4\r\n",
        "sueldo = 1\r\n",
        "nomina = 0\r\n",
        "while sueldo > 0 :\r\n",
        "    sueldo = float(input(\"Sueldo: $\"))\r\n",
        "    sueldo = (sueldo * 1.15) if sueldo < 1000 else (sueldo * 1.12)\r\n",
        "    if sueldo > 0 :\r\n",
        "        print(\"El sueldo total es: ${0:.2f}\".format(sueldo))\r\n",
        "        nomina += sueldo\r\n",
        "    else :\r\n",
        "        break\r\n",
        "print(\"La nomina total es: ${0:.2f}\".format(nomina))"
      ],
      "execution_count": 16,
      "outputs": [
        {
          "output_type": "stream",
          "text": [
            "Sueldo: $855\n",
            "El sueldo total es: $983.25\n",
            "Sueldo: $760\n",
            "El sueldo total es: $874.00\n",
            "Sueldo: $1100\n",
            "El sueldo total es: $1232.00\n",
            "Sueldo: $614\n",
            "El sueldo total es: $706.10\n",
            "Sueldo: $2600\n",
            "El sueldo total es: $2912.00\n",
            "Sueldo: $817\n",
            "El sueldo total es: $939.55\n",
            "Sueldo: $1280\n",
            "El sueldo total es: $1433.60\n",
            "Sueldo: $687\n",
            "El sueldo total es: $790.05\n",
            "Sueldo: $-1\n",
            "La nomina total es: $9870.55\n"
          ],
          "name": "stdout"
        }
      ]
    },
    {
      "cell_type": "code",
      "metadata": {
        "colab": {
          "base_uri": "https://localhost:8080/"
        },
        "id": "n_LXENpt7zaM",
        "outputId": "dad8e894-d87c-4c3f-9299-d09b35e3bc2c"
      },
      "source": [
        "#Problema 3.5\r\n",
        "sumanumerospos = 0\r\n",
        "sumatodosnumeros = 0\r\n",
        "cantidadnumerospos = 0\r\n",
        "i = 1\r\n",
        "cantidaddatos = int(input(\"¿Cuantos datos ingresaras?:\"))\r\n",
        "while i <= cantidaddatos :\r\n",
        "    aux = int(input(\"Numero: \"))\r\n",
        "    sumatodosnumeros += aux\r\n",
        "    if aux > 0 :\r\n",
        "        sumanumerospos += aux\r\n",
        "        cantidadnumerospos += 1\r\n",
        "    i += 1\r\n",
        "print(f\"El total de numeros positivos es: {cantidadnumerospos}\")\r\n",
        "print(\"El promedio de los numeros positivos es: {0:.2f}\".format(sumanumerospos/cantidadnumerospos))\r\n",
        "print(\"El promedio de todos los numeros es: {0:.2f}\".format(sumatodosnumeros/cantidaddatos))"
      ],
      "execution_count": 41,
      "outputs": [
        {
          "output_type": "stream",
          "text": [
            "¿Cuantos datos ingresaras?:4\n",
            "Numero: 45\n",
            "Numero: 20\n",
            "Numero: 14\n",
            "Numero: 5\n",
            "El total de numeros positivos es: 4\n",
            "El promedio de los numeros positivos es: 21.00\n",
            "El promedio de todos los numeros es: 21.00\n"
          ],
          "name": "stdout"
        }
      ]
    },
    {
      "cell_type": "code",
      "metadata": {
        "colab": {
          "base_uri": "https://localhost:8080/"
        },
        "id": "tuxCwNEh78un",
        "outputId": "c45c0603-5506-480a-a7f4-c5254c9b83c8"
      },
      "source": [
        "#Problema 3.6\r\n",
        "cantidaddatos = int(input(\"¿Cuantos datos ingresaras?:\"))\r\n",
        "if cantidaddatos < 1 :\r\n",
        "    print(\"Cantidad de datos no permitida.\")\r\n",
        "else :\r\n",
        "    listanumeros = []\r\n",
        "    i = 1\r\n",
        "    while i <=  cantidaddatos :\r\n",
        "        listanumeros.append(int(input(\"Numero: \")))\r\n",
        "        i += 1\r\n",
        "    listanumeros.sort()\r\n",
        "    print(f\"El numero mas pequeño es: {listanumeros[0]}\")\r\n",
        "    print(f\"El numero mas grande es: {listanumeros[cantidaddatos - 1]}\")"
      ],
      "execution_count": 19,
      "outputs": [
        {
          "output_type": "stream",
          "text": [
            "¿Cuantos datos ingresaras?:10\n",
            "Numero: 548\n",
            "Numero: 123\n",
            "Numero: 487\n",
            "Numero: 20\n",
            "Numero: 451\n",
            "Numero: 974\n",
            "Numero: 302\n",
            "Numero: 112\n",
            "Numero: 54\n",
            "Numero: 48\n",
            "El numero mas pequeño es: 20\n",
            "El numero mas grande es: 974\n"
          ],
          "name": "stdout"
        }
      ]
    },
    {
      "cell_type": "code",
      "metadata": {
        "colab": {
          "base_uri": "https://localhost:8080/"
        },
        "id": "mxotNO4e8K8T",
        "outputId": "278eaf23-54ae-4edd-a81a-c302fb2f6c1f"
      },
      "source": [
        "#Problema 3.7\r\n",
        "cantidadventas = int(input(\"Cantidad de ventas: \"))\r\n",
        "if cantidadventas < 1 :\r\n",
        "    print(\"Cantidad no admitida.\")\r\n",
        "else :\r\n",
        "    i = 1\r\n",
        "    venta_0_200 = 0\r\n",
        "    venta_200_400 = 0\r\n",
        "    venta_400 = 0\r\n",
        "    while i <= cantidadventas :\r\n",
        "        venta = float(input(\"Valor total de venta:$ \"))\r\n",
        "        if venta < 0:\r\n",
        "            print(\"No se admiten ventas negativas.\")\r\n",
        "            break\r\n",
        "        else :\r\n",
        "            if venta >= 0 and venta < 200 :\r\n",
        "                venta_0_200 += 1\r\n",
        "            elif venta >= 200 and venta < 400 :\r\n",
        "                venta_200_400 += 1\r\n",
        "            else :\r\n",
        "                venta_400 += 1\r\n",
        "        i += 1\r\n",
        "    print(f\"Total de ventas de $200 o menos: {venta_0_200}\")\r\n",
        "    print(f\"Total de ventas de $200 a $400: {venta_200_400}\")\r\n",
        "    print(f\"Total de ventas de mas de $400: {venta_400}\")"
      ],
      "execution_count": 24,
      "outputs": [
        {
          "output_type": "stream",
          "text": [
            "Cantidad de ventas: 8\n",
            "Valor total de venta:$ 12\n",
            "Valor total de venta:$ 145\n",
            "Valor total de venta:$ 845\n",
            "Valor total de venta:$ 754\n",
            "Valor total de venta:$ 26\n",
            "Valor total de venta:$ 354\n",
            "Valor total de venta:$ 201\n",
            "Valor total de venta:$ 487\n",
            "Total de ventas de $200 o menos: 3\n",
            "Total de ventas de $200 a $400: 2\n",
            "Total de ventas de mas de $400: 3\n"
          ],
          "name": "stdout"
        }
      ]
    },
    {
      "cell_type": "code",
      "metadata": {
        "colab": {
          "base_uri": "https://localhost:8080/"
        },
        "id": "JKGW13mF8ShB",
        "outputId": "8475aa7d-7c5b-4ac7-e4c6-608d8779830f"
      },
      "source": [
        "#Problema 3.8\r\n",
        "numero = int(input(\"Dame un número: \"))\r\n",
        "if numero < 1 :\r\n",
        "    print(\"Solo se aceptan números positivos.\")\r\n",
        "else :\r\n",
        "    cadena = f\"{numero}, \"\r\n",
        "    while numero != 1 :\r\n",
        "        numero = (int(numero/2)) if numero%2 == 0 else ((numero * 3) + 1)\r\n",
        "        cadena += (f\"{numero}, \") if numero != 1 else (f\"{numero}\")\r\n",
        "print(cadena)"
      ],
      "execution_count": 28,
      "outputs": [
        {
          "output_type": "stream",
          "text": [
            "Dame un número: 45\n",
            "45, 136, 68, 34, 17, 52, 26, 13, 40, 20, 10, 5, 16, 8, 4, 2, 1\n"
          ],
          "name": "stdout"
        }
      ]
    },
    {
      "cell_type": "code",
      "metadata": {
        "colab": {
          "base_uri": "https://localhost:8080/"
        },
        "id": "_-2zYUoE8XUf",
        "outputId": "ffb59f97-12cc-468b-eea2-89c08ea77aa2"
      },
      "source": [
        "#Problema 3.9\r\n",
        "numero = int(input(\"Dame un número: \"))\r\n",
        "if numero < 1 :\r\n",
        "    print(\"Solo se aceptan números positivos.\")\r\n",
        "else :\r\n",
        "    cont = 0\r\n",
        "    i = 1\r\n",
        "    while i <= numero :\r\n",
        "        cont += i ** i\r\n",
        "        i += 1\r\n",
        "    print(f\"La suma total de las potencias es: {cont}\")"
      ],
      "execution_count": 32,
      "outputs": [
        {
          "output_type": "stream",
          "text": [
            "Dame un número: 5\n",
            "La suma total de las potencias es: 3413\n"
          ],
          "name": "stdout"
        }
      ]
    },
    {
      "cell_type": "code",
      "metadata": {
        "colab": {
          "base_uri": "https://localhost:8080/"
        },
        "id": "qr0oB8Dk_Ban",
        "outputId": "bb1c5a86-c70f-46a5-a1bf-3938087d74e4"
      },
      "source": [
        "#Problema 3.10\r\n",
        "i = 3\r\n",
        "primero = 0\r\n",
        "segundo = 1\r\n",
        "cadena = \"0, 1, \"\r\n",
        "while i <= 180 :\r\n",
        "    proximo = primero + segundo\r\n",
        "    primero = segundo\r\n",
        "    segundo = proximo\r\n",
        "    cadena += (f\"{proximo}, \") if i < 180 else (f\"{proximo}\")\r\n",
        "    i += 1\r\n",
        "print(cadena)"
      ],
      "execution_count": 33,
      "outputs": [
        {
          "output_type": "stream",
          "text": [
            "0, 1, 1, 2, 3, 5, 8, 13, 21, 34, 55, 89, 144, 233, 377, 610, 987, 1597, 2584, 4181, 6765, 10946, 17711, 28657, 46368, 75025, 121393, 196418, 317811, 514229, 832040, 1346269, 2178309, 3524578, 5702887, 9227465, 14930352, 24157817, 39088169, 63245986, 102334155, 165580141, 267914296, 433494437, 701408733, 1134903170, 1836311903, 2971215073, 4807526976, 7778742049, 12586269025, 20365011074, 32951280099, 53316291173, 86267571272, 139583862445, 225851433717, 365435296162, 591286729879, 956722026041, 1548008755920, 2504730781961, 4052739537881, 6557470319842, 10610209857723, 17167680177565, 27777890035288, 44945570212853, 72723460248141, 117669030460994, 190392490709135, 308061521170129, 498454011879264, 806515533049393, 1304969544928657, 2111485077978050, 3416454622906707, 5527939700884757, 8944394323791464, 14472334024676221, 23416728348467685, 37889062373143906, 61305790721611591, 99194853094755497, 160500643816367088, 259695496911122585, 420196140727489673, 679891637638612258, 1100087778366101931, 1779979416004714189, 2880067194370816120, 4660046610375530309, 7540113804746346429, 12200160415121876738, 19740274219868223167, 31940434634990099905, 51680708854858323072, 83621143489848422977, 135301852344706746049, 218922995834555169026, 354224848179261915075, 573147844013817084101, 927372692193078999176, 1500520536206896083277, 2427893228399975082453, 3928413764606871165730, 6356306993006846248183, 10284720757613717413913, 16641027750620563662096, 26925748508234281076009, 43566776258854844738105, 70492524767089125814114, 114059301025943970552219, 184551825793033096366333, 298611126818977066918552, 483162952612010163284885, 781774079430987230203437, 1264937032042997393488322, 2046711111473984623691759, 3311648143516982017180081, 5358359254990966640871840, 8670007398507948658051921, 14028366653498915298923761, 22698374052006863956975682, 36726740705505779255899443, 59425114757512643212875125, 96151855463018422468774568, 155576970220531065681649693, 251728825683549488150424261, 407305795904080553832073954, 659034621587630041982498215, 1066340417491710595814572169, 1725375039079340637797070384, 2791715456571051233611642553, 4517090495650391871408712937, 7308805952221443105020355490, 11825896447871834976429068427, 19134702400093278081449423917, 30960598847965113057878492344, 50095301248058391139327916261, 81055900096023504197206408605, 131151201344081895336534324866, 212207101440105399533740733471, 343358302784187294870275058337, 555565404224292694404015791808, 898923707008479989274290850145, 1454489111232772683678306641953, 2353412818241252672952597492098, 3807901929474025356630904134051, 6161314747715278029583501626149, 9969216677189303386214405760200, 16130531424904581415797907386349, 26099748102093884802012313146549, 42230279526998466217810220532898, 68330027629092351019822533679447, 110560307156090817237632754212345, 178890334785183168257455287891792, 289450641941273985495088042104137, 468340976726457153752543329995929, 757791618667731139247631372100066, 1226132595394188293000174702095995, 1983924214061919432247806074196061, 3210056809456107725247980776292056, 5193981023518027157495786850488117, 8404037832974134882743767626780173, 13598018856492162040239554477268290, 22002056689466296922983322104048463, 35600075545958458963222876581316753, 57602132235424755886206198685365216, 93202207781383214849429075266681969, 150804340016807970735635273952047185, 244006547798191185585064349218729154, 394810887814999156320699623170776339, 638817435613190341905763972389505493, 1033628323428189498226463595560281832, 1672445759041379840132227567949787325, 2706074082469569338358691163510069157, 4378519841510949178490918731459856482, 7084593923980518516849609894969925639, 11463113765491467695340528626429782121\n"
          ],
          "name": "stdout"
        }
      ]
    },
    {
      "cell_type": "code",
      "metadata": {
        "colab": {
          "base_uri": "https://localhost:8080/"
        },
        "id": "aWTfX4v8_HDv",
        "outputId": "8349a289-a907-496f-8ff1-05bc56c8405c"
      },
      "source": [
        "#Problema 3.11\r\n",
        "voto = 1\r\n",
        "totalvotos = 0\r\n",
        "votos_1 = 0\r\n",
        "votos_2 = 0\r\n",
        "votos_3 = 0\r\n",
        "votos_4 = 0\r\n",
        "while voto > 0 and voto < 5 :\r\n",
        "    voto = int(input(\"Voto: \"))\r\n",
        "    totalvotos = (totalvotos + 1) if voto > 0 and voto < 5 else totalvotos\r\n",
        "    if voto == 1 :\r\n",
        "        votos_1 += 1\r\n",
        "    elif voto == 2 :\r\n",
        "        votos_2 += 1\r\n",
        "    elif voto == 3 :\r\n",
        "        votos_3 += 1\r\n",
        "    elif voto == 4 :\r\n",
        "        votos_4 += 1\r\n",
        "    else :\r\n",
        "        break\r\n",
        "print(f\"Fueron registrados {totalvotos} votos.\")\r\n",
        "print(f\"El candidato 1 obtuvo: {votos_1} equivalente al {(votos_1/totalvotos) * 100}% de los votos\")\r\n",
        "print(f\"El candidato 2 obtuvo: {votos_2} equivalente al {(votos_2/totalvotos) * 100}% de los votos\")\r\n",
        "print(f\"El candidato 3 obtuvo: {votos_3} equivalente al {(votos_3/totalvotos) * 100}% de los votos\")\r\n",
        "print(f\"El candidato 4 obtuvo: {votos_4} equivalente al {(votos_4/totalvotos) * 100}% de los votos\")\r\n"
      ],
      "execution_count": 40,
      "outputs": [
        {
          "output_type": "stream",
          "text": [
            "Voto: 1\n",
            "Voto: 2\n",
            "Voto: 4\n",
            "Voto: 4\n",
            "Voto: 3\n",
            "Voto: 2\n",
            "Voto: 1\n",
            "Voto: 4\n",
            "Voto: 2\n",
            "Voto: 1\n",
            "Voto: 1\n",
            "Voto: 3\n",
            "Voto: 4\n",
            "Voto: 0\n",
            "Fueron registrados 13 votos.\n",
            "El candidato 1 obtuvo: 4 equivalente al 30.76923076923077% de los votos\n",
            "El candidato 2 obtuvo: 3 equivalente al 23.076923076923077% de los votos\n",
            "El candidato 3 obtuvo: 2 equivalente al 15.384615384615385% de los votos\n",
            "El candidato 4 obtuvo: 4 equivalente al 30.76923076923077% de los votos\n"
          ],
          "name": "stdout"
        }
      ]
    },
    {
      "cell_type": "code",
      "metadata": {
        "colab": {
          "base_uri": "https://localhost:8080/"
        },
        "id": "HYhXKDar_OTa",
        "outputId": "7c326a21-b064-4791-db25-975251cd9836"
      },
      "source": [
        "#Problema 3.12\r\n",
        "sueldo = 1\r\n",
        "id = 0\r\n",
        "idmax = 0\r\n",
        "sueldomax = 0\r\n",
        "empleados = int(input(\"Número de empleados: \"))\r\n",
        "i = 0\r\n",
        "while i < empleados :\r\n",
        "    id = int(input(\"Número de ID: \"))\r\n",
        "    sueldo = float(input(\"Sueldo correspondiente:$ \"))\r\n",
        "    if sueldo > sueldomax :\r\n",
        "        sueldomax = sueldo\r\n",
        "        idmax = id\r\n",
        "    i += 1\r\n",
        "print(f\"El empleado con el sueldo mas alto tiene el ID: {idmax}\")\r\n",
        "print(f\"Con el sueldo de:$ {sueldomax}\")"
      ],
      "execution_count": 36,
      "outputs": [
        {
          "output_type": "stream",
          "text": [
            "Número de empleados: 5\n",
            "Número de ID: 25\n",
            "Sueldo correspondiente:$ 1234\n",
            "Número de ID: 42\n",
            "Sueldo correspondiente:$ 3214\n",
            "Número de ID: 56\n",
            "Sueldo correspondiente:$ 2013\n",
            "Número de ID: 69\n",
            "Sueldo correspondiente:$ 5412\n",
            "Número de ID: 14\n",
            "Sueldo correspondiente:$ 3541\n",
            "El empleado con el sueldo mas alto tiene el ID: 69\n",
            "Con el sueldo de:$ 5412.0\n"
          ],
          "name": "stdout"
        }
      ]
    },
    {
      "cell_type": "code",
      "metadata": {
        "colab": {
          "base_uri": "https://localhost:8080/"
        },
        "id": "nTGTHn4y_Sxt",
        "outputId": "cfd68e65-d475-47d7-f060-6aa3a65e418d"
      },
      "source": [
        "#Problema 3.13\r\n",
        "i = 0\r\n",
        "mes = [\"Enero\", \"Febrero\", \"Marzo\", \"Abril\", \"Mayo\", \"Junio\", \"Julio\", \"Agosto\", \"Septiembre\", \"Octubre\", \"Noviembre\", \"Diciembre\"]\r\n",
        "menorRS = 1000\r\n",
        "menorMS = 0\r\n",
        "totalRN = 0\r\n",
        "totalRC = 0\r\n",
        "totalRS = 0\r\n",
        "while i < 12 :\r\n",
        "    print(f\"Registros {mes[i]}\")\r\n",
        "    registroN = float(input(\"Region Norte: \"))\r\n",
        "    registroC = float(input(\"Region Centro: \"))\r\n",
        "    registroS = float(input(\"Region Sur: \"))\r\n",
        "    if menorRS > registroS :\r\n",
        "        menorRS = registroS\r\n",
        "        menorMS = i\r\n",
        "    totalRN = (totalRN + registroN) if registroN > 0 else totalRN\r\n",
        "    totalRC = (totalRC + registroC) if registroC > 0 else totalRC\r\n",
        "    totalRS = (totalRS + registroS) if registroS > 0 else totalRS\r\n",
        "    i += 1\r\n",
        "if totalRN == totalRC and totalRN == totalRS :\r\n",
        "    print(\"Todas las regiones tuvieron un promedio de lluvia anual igual ({0:.3f}).\".format(totalRN/12))\r\n",
        "    print(\"El promedio de lluvia anual de la region central es : {0:.3f}\".format(totalRC/12))\r\n",
        "elif totalRN > totalRC and totalRN > totalRS :\r\n",
        "    print(\"La region norte tuvo un mayor promedio de lluvia anual ({0:.3f})\".format(totalRN/12))\r\n",
        "    print(\"El promedio de lluvia anual de la region central es : {0:.3f}\".format(totalRC/12))\r\n",
        "elif totalRC > totalRS :\r\n",
        "    print(\"La region centro tuvo un mayor promedio de lluvia anual ({0:.3f})\".format(totalRC/12))\r\n",
        "else :\r\n",
        "    print(\"La region sur tuvo un mayor promedio de lluvia anual ({0:.3f})\".format(totalRS/12))\r\n",
        "    print(\"El promedio de lluvia anual de la region central es : {0:.3f}\".format(totalRC/12))\r\n",
        "print(f\"{mes[menorMS]} fue el mes con menor registro de lluvia ({menorRS})\")\r\n"
      ],
      "execution_count": 12,
      "outputs": [
        {
          "output_type": "stream",
          "text": [
            "Registros Enero\n",
            "Region Norte: 80\n",
            "Region Centro: 70\n",
            "Region Sur: 170\n",
            "Registros Febrero\n",
            "Region Norte: 60\n",
            "Region Centro: 85\n",
            "Region Sur: 100\n",
            "Registros Marzo\n",
            "Region Norte: 120\n",
            "Region Centro: 100\n",
            "Region Sur: 185\n",
            "Registros Abril\n",
            "Region Norte: 100\n",
            "Region Centro: 90\n",
            "Region Sur: 88\n",
            "Registros Mayo\n",
            "Region Norte: 70\n",
            "Region Centro: 82\n",
            "Region Sur: 90\n",
            "Registros Junio\n",
            "Region Norte: 150\n",
            "Region Centro: 130\n",
            "Region Sur: 122\n",
            "Registros Julio\n",
            "Region Norte: 100\n",
            "Region Centro: 5\n",
            "Region Sur: 67\n",
            "Registros Agosto\n",
            "Region Norte: 47\n",
            "Region Centro: 38\n",
            "Region Sur: 55\n",
            "Registros Septiembre\n",
            "Region Norte: 95\n",
            "Region Centro: 115\n",
            "Region Sur: 110\n",
            "Registros Octubre\n",
            "Region Norte: 70\n",
            "Region Centro: 62\n",
            "Region Sur: 83\n",
            "Registros Noviembre\n",
            "Region Norte: 100\n",
            "Region Centro: 87\n",
            "Region Sur: 107\n",
            "Registros Diciembre\n",
            "Region Norte: 130\n",
            "Region Centro: 103\n",
            "Region Sur: 148\n",
            "La region sur tuvo un mayor promedio de lluvia anual (110.417)\n",
            "El promedio de lluvia anual de la region central es : 80.583\n",
            "Agosto fue el mes con menor registro de lluvia (55.0)\n"
          ],
          "name": "stdout"
        }
      ]
    },
    {
      "cell_type": "code",
      "metadata": {
        "colab": {
          "base_uri": "https://localhost:8080/"
        },
        "id": "qkeiCt6t_czS",
        "outputId": "7a23ed78-5b5e-4642-820f-b19328f8631f"
      },
      "source": [
        "#Problema 3.14\r\n",
        "precios = []\r\n",
        "contBoletos = [0, 0, 0, 0, 0]\r\n",
        "recaudacionTotal = 0\r\n",
        "venta = 1\r\n",
        "for i in range(5) :\r\n",
        "    precios.append(float(input(f\"Precio Categoria {i+1}: $\")))\r\n",
        "while i >= 1 :\r\n",
        "    categoria = int(input(\"Categoria: \"))\r\n",
        "    cantidad = int(input(\"Cantidad: \"))\r\n",
        "    if categoria > 0 and categoria < 6 and cantidad > 0 :\r\n",
        "        total = cantidad * precios[categoria - 1]\r\n",
        "        print(\"Ticket\")\r\n",
        "        print(f\"Categoria de los boletos: {categoria}\")\r\n",
        "        print(f\"Total de boletos: {cantidad}\")\r\n",
        "        print(\"Total a pagar: ${0:.2f}\".format(total))\r\n",
        "        recaudacionTotal += total\r\n",
        "        contBoletos[categoria - 1] += cantidad\r\n",
        "        print(\"_______________________\")\r\n",
        "    else :\r\n",
        "        break\r\n",
        "for index, i in enumerate(contBoletos) :\r\n",
        "    print(f\"Boletos vendidos (Categoria {index + 1}): {i}\")\r\n",
        "print(\"Recaudacion total: ${0:.2f}\".format(recaudacionTotal))"
      ],
      "execution_count": 10,
      "outputs": [
        {
          "output_type": "stream",
          "text": [
            "Precio Categoria 1: $7.25\n",
            "Precio Categoria 2: $15.80\n",
            "Precio Categoria 3: $25.00\n",
            "Precio Categoria 4: $50.00\n",
            "Precio Categoria 5: $75.00\n",
            "Categoria: 2\n",
            "Cantidad: 3\n",
            "Ticket\n",
            "Categoria de los boletos: 2\n",
            "Total de boletos: 3\n",
            "Total a pagar: $47.40\n",
            "_______________________\n",
            "Categoria: 3\n",
            "Cantidad: 8\n",
            "Ticket\n",
            "Categoria de los boletos: 3\n",
            "Total de boletos: 8\n",
            "Total a pagar: $200.00\n",
            "_______________________\n",
            "Categoria: 2\n",
            "Cantidad: 4\n",
            "Ticket\n",
            "Categoria de los boletos: 2\n",
            "Total de boletos: 4\n",
            "Total a pagar: $63.20\n",
            "_______________________\n",
            "Categoria: 1\n",
            "Cantidad: 6\n",
            "Ticket\n",
            "Categoria de los boletos: 1\n",
            "Total de boletos: 6\n",
            "Total a pagar: $43.50\n",
            "_______________________\n",
            "Categoria: 3\n",
            "Cantidad: 14\n",
            "Ticket\n",
            "Categoria de los boletos: 3\n",
            "Total de boletos: 14\n",
            "Total a pagar: $350.00\n",
            "_______________________\n",
            "Categoria: -1\n",
            "Cantidad: -1\n",
            "Boletos vendidos (Categoria 1): 6\n",
            "Boletos vendidos (Categoria 2): 7\n",
            "Boletos vendidos (Categoria 3): 22\n",
            "Boletos vendidos (Categoria 4): 0\n",
            "Boletos vendidos (Categoria 5): 0\n",
            "Recaudacion total: $704.10\n"
          ],
          "name": "stdout"
        }
      ]
    },
    {
      "cell_type": "code",
      "metadata": {
        "colab": {
          "base_uri": "https://localhost:8080/"
        },
        "id": "ls6ODj8k_k2J",
        "outputId": "71d00e94-d02a-496c-9cc5-4e0f606676bf"
      },
      "source": [
        "#Problema 3.15\r\n",
        "contL = 0\r\n",
        "costeL = 0\r\n",
        "costeN = 0\r\n",
        "costeI = 0\r\n",
        "tipo = 1\r\n",
        "print(\"1. Internacional \\n2. Nacional \\n3. Local\")\r\n",
        "while tipo == 1 or tipo == 2 or tipo == 3 :\r\n",
        "    tipo = int(input(\"Tipo de llamada (Ingresa el numero): \"))\r\n",
        "    minutos = 0\r\n",
        "    if tipo == 3 :\r\n",
        "        contL += 1\r\n",
        "    elif tipo == 2 :\r\n",
        "        minutos = int(input(\"Minutos usados: \"))\r\n",
        "        coste = (1.2 * minutos) if minutos > 0 and minutos < 4 else ((1.2 * 3) + (0.48 * (minutos - 3)))\r\n",
        "        costeN += coste\r\n",
        "    elif tipo == 1 :\r\n",
        "        minutos = int(input(\"Minutos usados: \"))\r\n",
        "        coste = (7.59 * minutos) if minutos > 0 and minutos < 4 else ((7.59 * 3) + (3.03 * (minutos - 3)))\r\n",
        "        costeI += coste\r\n",
        "    else :\r\n",
        "        break\r\n",
        "costeL = ((contL - 50) * 0.6) if contL > 50 else costeL\r\n",
        "print(\"Coste total llamada internacional: ${0:.2f}\".format(costeI))\r\n",
        "print(\"Coste total llamada nacional: ${0:.2f}\".format(costeN))\r\n",
        "print(\"Coste total llamada local: ${0:.2f}\".format(costeL))\r\n",
        "print(f\"Total: {costeI + costeN + costeL}\")"
      ],
      "execution_count": 42,
      "outputs": [
        {
          "output_type": "stream",
          "text": [
            "1. Internacional \n",
            "2. Nacional \n",
            "3. Local\n",
            "Tipo de llamada (Ingresa el numero): 1\n",
            "Minutos usados: 5\n",
            "Tipo de llamada (Ingresa el numero): 2\n",
            "Minutos usados: 4\n",
            "Tipo de llamada (Ingresa el numero): 3\n",
            "Tipo de llamada (Ingresa el numero): 1\n",
            "Minutos usados: 7\n",
            "Tipo de llamada (Ingresa el numero): 2\n",
            "Minutos usados: 5\n",
            "Tipo de llamada (Ingresa el numero): 1\n",
            "Minutos usados: 4\n",
            "Tipo de llamada (Ingresa el numero): -1\n",
            "Coste total llamada internacional: $89.52\n",
            "Coste total llamada nacional: $8.64\n",
            "Coste total llamada local: $0.00\n",
            "Total: 98.16\n"
          ],
          "name": "stdout"
        }
      ]
    },
    {
      "cell_type": "code",
      "metadata": {
        "colab": {
          "base_uri": "https://localhost:8080/"
        },
        "id": "sEiQqW3c_5-x",
        "outputId": "82ce626a-f2c4-4e40-d922-87531e9870cc"
      },
      "source": [
        "#Problema 3.16\r\n",
        "inicio = int(input(\"Año en el que incia: \"))\r\n",
        "inicioAux = inicio\r\n",
        "tipo = [0, 0, 0, 0, 0]\r\n",
        "produccionanual = []\r\n",
        "producciontipo_2 = 0\r\n",
        "produccionanual_2 = 0\r\n",
        "producciontipo_3 = []\r\n",
        "while inicio <= 2020 :\r\n",
        "    print(f\"Año {inicio}\")\r\n",
        "    produccion = 0\r\n",
        "    for index, i in enumerate(tipo) :\r\n",
        "        aux = float(input(f\"Cantidad producida de vino tipo {index + 1} (l): \"))\r\n",
        "        if aux < 0 :\r\n",
        "            break\r\n",
        "        tipo[index] += aux\r\n",
        "        produccion += aux\r\n",
        "        if index == 1 and aux > producciontipo_2:\r\n",
        "            producciontipo_2 = aux\r\n",
        "            produccionanual_2 = inicio\r\n",
        "        if index == 2 and aux == 0:\r\n",
        "            producciontipo_3.append(inicio)\r\n",
        "    produccionanual.append(produccion)\r\n",
        "    inicio += 1\r\n",
        "for index, i in enumerate(tipo) :\r\n",
        "    print(f\"Vino producido tipo {index + 1}: {i} l\")\r\n",
        "for index, i in enumerate(produccionanual) :\r\n",
        "    print(f\"Produccion del año {inicioAux + index}: {i} l\")\r\n",
        "print(f\"El año {produccionanual_2} se produjo mas vino tipo de 2: ({producciontipo_2})\")\r\n",
        "for i in producciontipo_3 :\r\n",
        "    print(f\"El año {i} no se produjo vino tipo 3\")"
      ],
      "execution_count": 8,
      "outputs": [
        {
          "output_type": "stream",
          "text": [
            "Año en el que incia: 2015\n",
            "Año 2015\n",
            "Cantidad producida de vino tipo 1 (l): 210\n",
            "Cantidad producida de vino tipo 2 (l): 57\n",
            "Cantidad producida de vino tipo 3 (l): 94\n",
            "Cantidad producida de vino tipo 4 (l): 12\n",
            "Cantidad producida de vino tipo 5 (l): 30\n",
            "Año 2016\n",
            "Cantidad producida de vino tipo 1 (l): 24\n",
            "Cantidad producida de vino tipo 2 (l): 56\n",
            "Cantidad producida de vino tipo 3 (l): 75\n",
            "Cantidad producida de vino tipo 4 (l): 14\n",
            "Cantidad producida de vino tipo 5 (l): 79\n",
            "Año 2017\n",
            "Cantidad producida de vino tipo 1 (l): 84\n",
            "Cantidad producida de vino tipo 2 (l): 91\n",
            "Cantidad producida de vino tipo 3 (l): 24\n",
            "Cantidad producida de vino tipo 4 (l): 57\n",
            "Cantidad producida de vino tipo 5 (l): 73\n",
            "Año 2018\n",
            "Cantidad producida de vino tipo 1 (l): 120\n",
            "Cantidad producida de vino tipo 2 (l): 144\n",
            "Cantidad producida de vino tipo 3 (l): 221\n",
            "Cantidad producida de vino tipo 4 (l): 130\n",
            "Cantidad producida de vino tipo 5 (l): 49\n",
            "Año 2019\n",
            "Cantidad producida de vino tipo 1 (l): 43\n",
            "Cantidad producida de vino tipo 2 (l): 12\n",
            "Cantidad producida de vino tipo 3 (l): 57\n",
            "Cantidad producida de vino tipo 4 (l): 71\n",
            "Cantidad producida de vino tipo 5 (l): 83\n",
            "Año 2020\n",
            "Cantidad producida de vino tipo 1 (l): 46\n",
            "Cantidad producida de vino tipo 2 (l): 67\n",
            "Cantidad producida de vino tipo 3 (l): 210\n",
            "Cantidad producida de vino tipo 4 (l): 54\n",
            "Cantidad producida de vino tipo 5 (l): 16\n",
            "Vino producido tipo 1: 527.0 l\n",
            "Vino producido tipo 2: 427.0 l\n",
            "Vino producido tipo 3: 681.0 l\n",
            "Vino producido tipo 4: 338.0 l\n",
            "Vino producido tipo 5: 330.0 l\n",
            "Produccion del año 2015: 403.0 l\n",
            "Produccion del año 2016: 248.0 l\n",
            "Produccion del año 2017: 329.0 l\n",
            "Produccion del año 2018: 664.0 l\n",
            "Produccion del año 2019: 266.0 l\n",
            "Produccion del año 2020: 393.0 l\n",
            "El año 2018 se produjo mas vino tipo de 2. (144.0)\n"
          ],
          "name": "stdout"
        }
      ]
    },
    {
      "cell_type": "code",
      "metadata": {
        "colab": {
          "base_uri": "https://localhost:8080/"
        },
        "id": "sREZV2ML_68i",
        "outputId": "fe0a427a-3bd3-4be6-fb04-e777afc46bc0"
      },
      "source": [
        "#Problema 3.17\r\n",
        "limite = int(input(\"Numero limite: \"))\r\n",
        "if limite < 1 :\r\n",
        "    print(\"Caracter no valido.\")\r\n",
        "else :\r\n",
        "    i = 1\r\n",
        "    cadena = \"1, \"\r\n",
        "    while i <= limite :\r\n",
        "        if i+2 > limite :\r\n",
        "            break\r\n",
        "        else :\r\n",
        "            i += 2\r\n",
        "            cont = 0\r\n",
        "            for e in range(1, i, 2) :\r\n",
        "                cont = (cont + 1) if i%e == 0 else cont\r\n",
        "            cadena = (cadena + str(i) + \", \") if cont == 1 else cadena\r\n",
        "    print(cadena)"
      ],
      "execution_count": 5,
      "outputs": [
        {
          "output_type": "stream",
          "text": [
            "Numero limite: 10\n",
            "1, 3, 5, 7, \n"
          ],
          "name": "stdout"
        }
      ]
    },
    {
      "cell_type": "code",
      "metadata": {
        "colab": {
          "base_uri": "https://localhost:8080/"
        },
        "id": "yYTJu6CN__b2",
        "outputId": "20ad0be6-da85-4bed-e414-27227ea5f36f"
      },
      "source": [
        "#Problema 3.18\r\n",
        "empresas = int(input(\"Numero de empresas: \"))\r\n",
        "mes = [\"Enero\", \"Febrero\", \"Marzo\", \"Abril\", \"Mayo\", \"Junio\", \"Julio\", \"Agosto\", \"Septiembre\", \"Octubre\", \"Noviembre\", \"Diciembre\"]\r\n",
        "totalproduccion = []\r\n",
        "produccion = []\r\n",
        "mayorproduccion = 0\r\n",
        "mayorproduccion = 0\r\n",
        "for i in range(empresas) :\r\n",
        "    aux = []\r\n",
        "    cont = 0\r\n",
        "    aux.append(int(input(\"ID: \")))\r\n",
        "    for j in mes :\r\n",
        "        print(f\"Mes de {j}\")\r\n",
        "        producto = float(input(\"Produccion: $\"))\r\n",
        "        if producto < 0 :\r\n",
        "            break\r\n",
        "        aux.append(producto)\r\n",
        "        cont += producto\r\n",
        "    produccion.append(aux)\r\n",
        "    totalproduccion.append(cont)\r\n",
        "for i in range(empresas) :\r\n",
        "    if produccion[i][7] > 3000000 :\r\n",
        "        print(f\"La empresa con el ID {produccion[i][0]} produjo mas de $3,000,000 en julio\")\r\n",
        "for index, i in enumerate(totalproduccion) :\r\n",
        "    print(f\"La empresa con el ID {produccion[index][0]} produjo ${i}\")\r\n",
        "    if i > mayorproduccion :\r\n",
        "        mayorproduccion = i\r\n",
        "        mayorproduccion = index\r\n",
        "print(f\"El ID de la empresa con mayor produccion es {produccion[mayorproduccion][0]}, y esta produjo ${mayorproduccion}\")"
      ],
      "execution_count": 43,
      "outputs": [
        {
          "output_type": "stream",
          "text": [
            "Numero de empresas: 2\n",
            "ID: 547\n",
            "Mes de Enero\n",
            "Produccion: $2314\n",
            "Mes de Febrero\n",
            "Produccion: $5124\n",
            "Mes de Marzo\n",
            "Produccion: $3214\n",
            "Mes de Abril\n",
            "Produccion: $1024\n",
            "Mes de Mayo\n",
            "Produccion: $845\n",
            "Mes de Junio\n",
            "Produccion: $1427\n",
            "Mes de Julio\n",
            "Produccion: $2015\n",
            "Mes de Agosto\n",
            "Produccion: $3254\n",
            "Mes de Septiembre\n",
            "Produccion: $124\n",
            "Mes de Octubre\n",
            "Produccion: $654\n",
            "Mes de Noviembre\n",
            "Produccion: $542\n",
            "Mes de Diciembre\n",
            "Produccion: $101\n",
            "ID: 112\n",
            "Mes de Enero\n",
            "Produccion: $3125\n",
            "Mes de Febrero\n",
            "Produccion: $4854\n",
            "Mes de Marzo\n",
            "Produccion: $9457\n",
            "Mes de Abril\n",
            "Produccion: $3154\n",
            "Mes de Mayo\n",
            "Produccion: $21043\n",
            "Mes de Junio\n",
            "Produccion: $2154\n",
            "Mes de Julio\n",
            "Produccion: $310\n",
            "Mes de Agosto\n",
            "Produccion: $1324\n",
            "Mes de Septiembre\n",
            "Produccion: $5420\n",
            "Mes de Octubre\n",
            "Produccion: $132\n",
            "Mes de Noviembre\n",
            "Produccion: $2154\n",
            "Mes de Diciembre\n",
            "Produccion: $115\n",
            "La empresa con el ID 547 produjo $20638.0\n",
            "La empresa con el ID 112 produjo $53242.0\n",
            "El ID de la empresa con mayor produccion es 112, y esta produjo $1\n"
          ],
          "name": "stdout"
        }
      ]
    },
    {
      "cell_type": "code",
      "metadata": {
        "colab": {
          "base_uri": "https://localhost:8080/"
        },
        "id": "FLOpTAeIAEeT",
        "outputId": "d3063980-d170-4717-bd11-250f06e1c192"
      },
      "source": [
        "#Problema 3.19\r\n",
        "numero = int(input(\"Dame un número: \"))\r\n",
        "print(\"El número 1 es un numero perfecto.\")\r\n",
        "for i in range(1, numero) :\r\n",
        "    cont = 0\r\n",
        "    n = 1\r\n",
        "    while n <= int(i/2) :\r\n",
        "        if i%n == 0 :\r\n",
        "            cont += n\r\n",
        "        n += 1\r\n",
        "    if cont == i :\r\n",
        "        print(f\"El número {i} es un numero perfecto.\")"
      ],
      "execution_count": 2,
      "outputs": [
        {
          "output_type": "stream",
          "text": [
            "Dame un número: 9\n",
            "El número 1 es un numero perfecto.\n",
            "El número 6 es un numero perfecto.\n"
          ],
          "name": "stdout"
        }
      ]
    }
  ]
}