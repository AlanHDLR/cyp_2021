{
  "nbformat": 4,
  "nbformat_minor": 0,
  "metadata": {
    "colab": {
      "name": "C y P  01/12/2020",
      "provenance": [],
      "authorship_tag": "ABX9TyOo+ONuxq/7bNeDvnJ82KmL",
      "include_colab_link": true
    },
    "kernelspec": {
      "name": "python3",
      "display_name": "Python 3"
    }
  },
  "cells": [
    {
      "cell_type": "markdown",
      "metadata": {
        "id": "view-in-github",
        "colab_type": "text"
      },
      "source": [
        "<a href=\"https://colab.research.google.com/github/AlanHDLR/cyp_2021/blob/main/C_y_P_01_12_2020.ipynb\" target=\"_parent\"><img src=\"https://colab.research.google.com/assets/colab-badge.svg\" alt=\"Open In Colab\"/></a>"
      ]
    },
    {
      "cell_type": "code",
      "metadata": {
        "colab": {
          "base_uri": "https://localhost:8080/"
        },
        "id": "Zpm1MhizUoPK",
        "outputId": "ac3c9286-f0d2-4fdd-a11f-04e1cef6fb64"
      },
      "source": [
        "#Ejemplo 1. Pedir tres núemros enteros y mostrar el mayor de los tres\n",
        "\n",
        "numero1 = int(input(\"Introduce el primer número: \"))\n",
        "numero2 = int(input(\"Introduce el segundo número: \"))\n",
        "numero3 = int(input(\"Introduce el tercer número: \"))\n",
        "\n",
        "if numero1 >= numero2 and numero1 >= numero3:\n",
        "  print(numero1,\"es el mayor\")\n",
        "\n",
        "elif numero2 >= numero1 and numero2 >= numero3:\n",
        "  print(numero2, \"es el mayor\") \n",
        "\n",
        "else: \n",
        "  print(numero3,\"es el mayor\")\n"
      ],
      "execution_count": 8,
      "outputs": [
        {
          "output_type": "stream",
          "text": [
            "Introduce el primer número: 2\n",
            "Introduce el segundo número: 4\n",
            "Introduce el tercer número: 6\n",
            "6 es el mayor\n"
          ],
          "name": "stdout"
        }
      ]
    },
    {
      "cell_type": "code",
      "metadata": {
        "colab": {
          "base_uri": "https://localhost:8080/"
        },
        "id": "uLPJ59vKWurj",
        "outputId": "8fa45813-c3d6-4798-ef02-17a21a3fbf40"
      },
      "source": [
        "#Ejemplo 2.\n",
        "\n",
        "print(\"Ingrese el nombre del trabajador: \")\n",
        "nombre = str(input())\n",
        "print(\"¿Cuantas horas trabajo esta semana?\",nombre,\":\" )\n",
        "horas=int (input())\n",
        "print(\"¿Cuanto se le paga por hora?:\")\n",
        "sueldoH= float (input())\n",
        "\n",
        "#Evaluar su sueldo\n",
        "\n",
        "if (horas<=40):\n",
        "  pago = horas*sueldoH\n",
        "  print(nombre,\"Su pago total es de $\",pago)\n",
        "\n",
        "else:\n",
        "  extras = horas - 40\n",
        "  pago = 40*sueldoH\n",
        "  pagoFinal = pago + ((extras * sueldoH)*2)\n",
        "  print(nombre,\"Su pago total es de $\",pagoFinal)\n",
        "\n",
        "\n"
      ],
      "execution_count": 9,
      "outputs": [
        {
          "output_type": "stream",
          "text": [
            "Ingrese el nombre del trabajador: \n",
            "Alan\n",
            "¿Cuantas horas trabajo esta semana? Alan :\n",
            "50\n",
            "¿Cuanto se le paga por hora?:\n",
            "10\n",
            "Alan Su pago total es de $ 600.0\n"
          ],
          "name": "stdout"
        }
      ]
    },
    {
      "cell_type": "code",
      "metadata": {
        "colab": {
          "base_uri": "https://localhost:8080/"
        },
        "id": "JqnMWqhGZOhD",
        "outputId": "478d2130-61f9-4b9a-e207-d2e6bad27dd8"
      },
      "source": [
        "#Ejemplo 3\n",
        "\n",
        "print(\"ingrese el nombre del trabajador\")\n",
        "nombre=input()\n",
        "print(\"Cuantas horas trabajo esta semana\", nombre, \": \")\n",
        "horas=int(input())\n",
        "print(\"Cuanto se paga por hora?: \")\n",
        "sueldoH=int(input())\n",
        "suledo=float(sueldoH)\n",
        "\n",
        "#evaluar el sueldo\n",
        "\n",
        "if (horas<=40):\n",
        "  pago=horas * sueldoH\n",
        "  print(\"El sueldo final de\" ,nombre , \"Es $\", pago)\n",
        "\n",
        "elif (horas > 40 and horas <= 50):\n",
        "  extrasDobles=horas-40\n",
        "  print(\"Horas extras dobles\", extrasDobles)\n",
        "  pago=40 * sueldoH\n",
        "  print(\"sueldo base:$\" , pago)\n",
        "  pagoDoble= extrasDoble * sueldoH *2\n",
        "  print(\"pago en horas dobles:$\" ,pagoDoble)\n",
        "  pagoFinal= pago +pagoDoble\n",
        "  print(\"El sueldo final de:\" ,nombre ,\"Es $\", pagoFinal)\n",
        "\n",
        "elif (horas >50 and horas <=60):\n",
        "  extrasTriples=horas-50\n",
        "  print(\"horas extra dobles:10\")\n",
        "  print(\"horas extra triples:\",extrasTriples)\n",
        "  pago= 40* sueldoH\n",
        "  print(\"sueldo base:$\", pago)\n",
        "  pagoDoble=10*sueldoH*2\n",
        "  print(\"pago de horas extras dobles:\", pagoDoble)\n",
        "  pagoTriple=extrasTriples * sueldoH*3\n",
        "  print(\"pago de horas extra triples:\", pagoTriple)\n",
        "  print(\"Incentivo por trabajar más de 60 horas:$ $2000\")\n",
        "  pagoFinal= pago+pagoDoble+pagoTriple+2000\n",
        "  print(\"El sueldo Final de : \" ,nombre , \"Es $\", pagoFinal)\n",
        "\n",
        "\n",
        "\n"
      ],
      "execution_count": 10,
      "outputs": [
        {
          "output_type": "stream",
          "text": [
            "ingrese el nombre del trabajador\n",
            "Alan\n",
            "Cuantas horas trabajo esta semana Alan : \n",
            "60\n",
            "Cuanto se paga por hora?: \n",
            "20\n",
            "horas extra dobles:10\n",
            "horas extra triples: 10\n",
            "sueldo base:$ 800\n",
            "pago de horas extras dobles: 400\n",
            "pago de horas extra triples: 600\n",
            "Incentivo por trabajar más de 60 horas:$ $2000\n",
            "El sueldo Final de :  Alan Es $ 3800\n"
          ],
          "name": "stdout"
        }
      ]
    },
    {
      "cell_type": "code",
      "metadata": {
        "colab": {
          "base_uri": "https://localhost:8080/"
        },
        "id": "eS4t3cMerc1E",
        "outputId": "e518ad0e-7b22-403a-cbe8-4eeaef2351e2"
      },
      "source": [
        "#Estructura FOR\n",
        "\n",
        "  #Ejemplo1\n",
        "for estaciones_año in [\"primavera\",\"verano\",\"otoño\",\"invierno\",\"venus\"]:\n",
        "  print(estaciones_año)\n",
        "\n",
        "#variables que suelen formar parte de FOR son \"i\""
      ],
      "execution_count": 11,
      "outputs": [
        {
          "output_type": "stream",
          "text": [
            "primavera\n",
            "verano\n",
            "otoño\n",
            "invierno\n",
            "venus\n"
          ],
          "name": "stdout"
        }
      ]
    }
  ]
}