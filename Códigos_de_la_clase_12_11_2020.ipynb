{
  "nbformat": 4,
  "nbformat_minor": 0,
  "metadata": {
    "colab": {
      "name": "Códigos de la clase   12/11/2020",
      "provenance": [],
      "authorship_tag": "ABX9TyNhJTMTsXpT2dQa9UuaN5fT",
      "include_colab_link": true
    },
    "kernelspec": {
      "name": "python3",
      "display_name": "Python 3"
    }
  },
  "cells": [
    {
      "cell_type": "markdown",
      "metadata": {
        "id": "view-in-github",
        "colab_type": "text"
      },
      "source": [
        "<a href=\"https://colab.research.google.com/github/AlanHDLR/cyp_2021/blob/main/C%C3%B3digos_de_la_clase_12_11_2020.ipynb\" target=\"_parent\"><img src=\"https://colab.research.google.com/assets/colab-badge.svg\" alt=\"Open In Colab\"/></a>"
      ]
    },
    {
      "cell_type": "code",
      "metadata": {
        "id": "5HOgo0VketeA",
        "outputId": "000b7ac9-c69d-40fd-9b8d-9111c65af712",
        "colab": {
          "base_uri": "https://localhost:8080/"
        }
      },
      "source": [
        "#Ejemplo1\n",
        "\n",
        "numero=int (input(\"Dame un numero\"))\n",
        "if numero >0:\n",
        "     print(\"El número es positio\")\n",
        "\n",
        "print( \"Fin de del programa\")\n",
        "\n"
      ],
      "execution_count": 10,
      "outputs": [
        {
          "output_type": "stream",
          "text": [
            "Dame un numero4\n",
            "El número es positio\n",
            "Fin de del programa\n"
          ],
          "name": "stdout"
        }
      ]
    },
    {
      "cell_type": "code",
      "metadata": {
        "id": "x4kwJAA9fPFZ",
        "outputId": "53f12081-bee2-4d1c-d902-d37200b63f16",
        "colab": {
          "base_uri": "https://localhost:8080/"
        }
      },
      "source": [
        "#Ejemplo2\n",
        "\n",
        "numero= int(input(\"Digite un numero\"))\n",
        "if numero >0:\n",
        "   print(\"El numero es positivo\")\n",
        "else:\n",
        "   print(\"El numero es negativo\")\n",
        "  "
      ],
      "execution_count": 17,
      "outputs": [
        {
          "output_type": "stream",
          "text": [
            "Digite un numero2\n",
            "El numero es positivo\n"
          ],
          "name": "stdout"
        }
      ]
    },
    {
      "cell_type": "code",
      "metadata": {
        "id": "mWigwSCRg8Fj",
        "outputId": "d1de1f44-97f4-41c1-a76b-c1d42863dcf1",
        "colab": {
          "base_uri": "https://localhost:8080/"
        }
      },
      "source": [
        "#Ejemplo3\n",
        "\n",
        "numero= int(input(\"Digite un numero\"))\n",
        "if numero >0:\n",
        "   print(\"El numero es positivo\")\n",
        "elif numero==0:\n",
        "   print(\"El numero es igual a 0\")\n",
        "else:\n",
        "   print(\"El numero es negativo\")\n",
        "\n",
        "print(\"Fin del programa\")\n"
      ],
      "execution_count": 16,
      "outputs": [
        {
          "output_type": "stream",
          "text": [
            "Digite un numero-3\n",
            "El numero es negativo\n",
            "Fin del programa\n"
          ],
          "name": "stdout"
        }
      ]
    }
  ]
}