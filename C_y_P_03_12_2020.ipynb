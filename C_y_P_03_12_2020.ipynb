{
  "nbformat": 4,
  "nbformat_minor": 0,
  "metadata": {
    "colab": {
      "name": "C y P 03/12/2020",
      "provenance": [],
      "authorship_tag": "ABX9TyPEnLpGxtCCnJgdDvVGkweR",
      "include_colab_link": true
    },
    "kernelspec": {
      "name": "python3",
      "display_name": "Python 3"
    }
  },
  "cells": [
    {
      "cell_type": "markdown",
      "metadata": {
        "id": "view-in-github",
        "colab_type": "text"
      },
      "source": [
        "<a href=\"https://colab.research.google.com/github/AlanHDLR/cyp_2021/blob/main/C_y_P_03_12_2020.ipynb\" target=\"_parent\"><img src=\"https://colab.research.google.com/assets/colab-badge.svg\" alt=\"Open In Colab\"/></a>"
      ]
    },
    {
      "cell_type": "code",
      "metadata": {
        "colab": {
          "base_uri": "https://localhost:8080/"
        },
        "id": "IV-kFGcimkpy",
        "outputId": "df866ad8-bf60-4643-9e9d-4461d25bd319"
      },
      "source": [
        "#Ejemplo 1\n",
        "\n",
        "for i in[1,2,3,4,5]:\n",
        "  print(f\"El elemento {i}\")\n",
        "  \n"
      ],
      "execution_count": 2,
      "outputs": [
        {
          "output_type": "stream",
          "text": [
            "El elemento 1\n",
            "El elemento 2\n",
            "El elemento 3\n",
            "El elemento 4\n",
            "El elemento 5\n"
          ],
          "name": "stdout"
        }
      ]
    },
    {
      "cell_type": "code",
      "metadata": {
        "colab": {
          "base_uri": "https://localhost:8080/"
        },
        "id": "XrXkHvYNnjfB",
        "outputId": "c944e7a6-873a-4bdd-fca5-2c8b3d881ae4"
      },
      "source": [
        "coleccion=[1,2,3,4,5]\n",
        "for i in coleccion:\n",
        "  print(f\"El elemento: {i}\")\n"
      ],
      "execution_count": 3,
      "outputs": [
        {
          "output_type": "stream",
          "text": [
            "El elemento: 1\n",
            "El elemento: 2\n",
            "El elemento: 3\n",
            "El elemento: 4\n",
            "El elemento: 5\n"
          ],
          "name": "stdout"
        }
      ]
    },
    {
      "cell_type": "code",
      "metadata": {
        "colab": {
          "base_uri": "https://localhost:8080/"
        },
        "id": "KXYFlra4n5x_",
        "outputId": "37b2fe55-fc4e-46e9-8e05-6b1726c05489"
      },
      "source": [
        "#Ejemplo 2\n",
        "\n",
        "coleccion={\"Mario\":20, \"Mariana\":19, \"Yessica\":14, \"Luis\":18}\n",
        "\n",
        "for i in coleccion:\n",
        "  print(f\"Elemento{i}\")"
      ],
      "execution_count": 6,
      "outputs": [
        {
          "output_type": "stream",
          "text": [
            "ElementoMario\n",
            "ElementoMariana\n",
            "ElementoYessica\n",
            "ElementoLuis\n"
          ],
          "name": "stdout"
        }
      ]
    },
    {
      "cell_type": "code",
      "metadata": {
        "colab": {
          "base_uri": "https://localhost:8080/"
        },
        "id": "y4v9OK6Tp2w4",
        "outputId": "2e05bd0b-7b6d-44d6-90be-08eae266963d"
      },
      "source": [
        "coleccion={\"Mario\":20, \"Mariana\":19, \"Yessica\":14, \"Luis\":18}\n",
        "\n",
        "for i in coleccion:\n",
        "  print(f\"{coleccion [i]}\")"
      ],
      "execution_count": 8,
      "outputs": [
        {
          "output_type": "stream",
          "text": [
            "20\n",
            "19\n",
            "14\n",
            "18\n"
          ],
          "name": "stdout"
        }
      ]
    },
    {
      "cell_type": "code",
      "metadata": {
        "colab": {
          "base_uri": "https://localhost:8080/"
        },
        "id": "2BCWxZeSqPZw",
        "outputId": "5008081c-d8ac-4a20-a1ed-1f98f232a8d5"
      },
      "source": [
        "coleccion={\"Mario\":20, \"Mariana\":19, \"Yessica\":14, \"Luis\":18}\n",
        "\n",
        "for i in coleccion:\n",
        "  print(f\"{i}->{coleccion[i]}\")"
      ],
      "execution_count": 9,
      "outputs": [
        {
          "output_type": "stream",
          "text": [
            "Mario->20\n",
            "Mariana->19\n",
            "Yessica->14\n",
            "Luis->18\n"
          ],
          "name": "stdout"
        }
      ]
    },
    {
      "cell_type": "code",
      "metadata": {
        "colab": {
          "base_uri": "https://localhost:8080/"
        },
        "id": "B-nTomitrD_q",
        "outputId": "dbc02474-dae8-400b-e7a2-9e056a2904fe"
      },
      "source": [
        "coleccion={\"Mario\":20, \"Mariana\":19, \"Yessica\":14, \"Luis\":18}\n",
        "\n",
        "for clave, valor in coleccion.items():\n",
        "  print(f\"{clave}->{valor}\") "
      ],
      "execution_count": 10,
      "outputs": [
        {
          "output_type": "stream",
          "text": [
            "Mario->20\n",
            "Mariana->19\n",
            "Yessica->14\n",
            "Luis->18\n"
          ],
          "name": "stdout"
        }
      ]
    },
    {
      "cell_type": "code",
      "metadata": {
        "colab": {
          "base_uri": "https://localhost:8080/"
        },
        "id": "lBhjW4Tys_4n",
        "outputId": "edb5e196-09c7-4b5e-f5ca-cc9624daa9ca"
      },
      "source": [
        "#Ejemplo 3\n",
        "\n",
        "email=False\n",
        "for i in\"Ariel@unam.com\":\n",
        "  if(i==\"@\"):\n",
        "    email=True\n",
        "if email== True:\n",
        "     print(\"el email es correcto\")\n",
        "\n",
        "else:\n",
        "     print(\"el email es falso\")\n",
        "\n",
        "\n",
        "\n",
        "\n",
        "\n"
      ],
      "execution_count": 27,
      "outputs": [
        {
          "output_type": "stream",
          "text": [
            "el email es correcto\n"
          ],
          "name": "stdout"
        }
      ]
    },
    {
      "cell_type": "code",
      "metadata": {
        "colab": {
          "base_uri": "https://localhost:8080/"
        },
        "id": "TJWPp86CwoAN",
        "outputId": "05e0fa9a-0b37-41ce-915c-4bc402d42dd1"
      },
      "source": [
        "email=False\n",
        "miemail=input(\"Dame tu correo:\")\n",
        "for i in miemail:\n",
        "\n",
        "  if(i==\"@\"):\n",
        "    email=True\n",
        "    \n",
        "if email== True:\n",
        "     print(\"el email es correcto\")\n",
        "\n",
        "else:\n",
        "     print(\"el email es falso\")"
      ],
      "execution_count": 29,
      "outputs": [
        {
          "output_type": "stream",
          "text": [
            "Dame tu correo:Alan@unam.com\n",
            "el email es correcto\n"
          ],
          "name": "stdout"
        }
      ]
    },
    {
      "cell_type": "code",
      "metadata": {
        "colab": {
          "base_uri": "https://localhost:8080/"
        },
        "id": "vrE-15uqvaF4",
        "outputId": "09369d30-0e29-4dc5-dd03-3974e0b80d72"
      },
      "source": [
        "#for- range\n",
        "\n",
        "for i in range (5):\n",
        "  print(\"wenas\")\n"
      ],
      "execution_count": 30,
      "outputs": [
        {
          "output_type": "stream",
          "text": [
            "wenas\n",
            "wenas\n",
            "wenas\n",
            "wenas\n",
            "wenas\n"
          ],
          "name": "stdout"
        }
      ]
    },
    {
      "cell_type": "code",
      "metadata": {
        "colab": {
          "base_uri": "https://localhost:8080/"
        },
        "id": "1wUrtphVvNlw",
        "outputId": "03c1785b-eb5e-44b9-99c7-1fabca0adb08"
      },
      "source": [
        "for i in range (5):\n",
        "  print(i)"
      ],
      "execution_count": 16,
      "outputs": [
        {
          "output_type": "stream",
          "text": [
            "0\n",
            "1\n",
            "2\n",
            "3\n",
            "4\n"
          ],
          "name": "stdout"
        }
      ]
    },
    {
      "cell_type": "code",
      "metadata": {
        "id": "x_cSjVFM1AGf",
        "outputId": "708864ed-19b0-4f64-efde-083b1bc27ac1",
        "colab": {
          "base_uri": "https://localhost:8080/"
        }
      },
      "source": [
        "for i in range (10):\n",
        "  print(f\"valor de la variable {i}\")\n",
        "  "
      ],
      "execution_count": 31,
      "outputs": [
        {
          "output_type": "stream",
          "text": [
            "valor de la variable 0\n",
            "valor de la variable 1\n",
            "valor de la variable 2\n",
            "valor de la variable 3\n",
            "valor de la variable 4\n",
            "valor de la variable 5\n",
            "valor de la variable 6\n",
            "valor de la variable 7\n",
            "valor de la variable 8\n",
            "valor de la variable 9\n"
          ],
          "name": "stdout"
        }
      ]
    },
    {
      "cell_type": "code",
      "metadata": {
        "id": "Fxqv6Zqg1Mtw",
        "outputId": "081367b7-8e61-4b99-d16c-31b3b2da9345",
        "colab": {
          "base_uri": "https://localhost:8080/"
        }
      },
      "source": [
        "for i in range (20):\n",
        "  print(f\"valor de la variable {i}\")"
      ],
      "execution_count": 32,
      "outputs": [
        {
          "output_type": "stream",
          "text": [
            "valor de la variable 0\n",
            "valor de la variable 1\n",
            "valor de la variable 2\n",
            "valor de la variable 3\n",
            "valor de la variable 4\n",
            "valor de la variable 5\n",
            "valor de la variable 6\n",
            "valor de la variable 7\n",
            "valor de la variable 8\n",
            "valor de la variable 9\n",
            "valor de la variable 10\n",
            "valor de la variable 11\n",
            "valor de la variable 12\n",
            "valor de la variable 13\n",
            "valor de la variable 14\n",
            "valor de la variable 15\n",
            "valor de la variable 16\n",
            "valor de la variable 17\n",
            "valor de la variable 18\n",
            "valor de la variable 19\n"
          ],
          "name": "stdout"
        }
      ]
    },
    {
      "cell_type": "code",
      "metadata": {
        "id": "T0XiC62E1WUp",
        "outputId": "b10aa8ef-7a77-424b-b7aa-b4470ace8afb",
        "colab": {
          "base_uri": "https://localhost:8080/"
        }
      },
      "source": [
        "#While\n",
        "edad=int(input(\"Intoduce tu edad:\"))\n",
        "while edad <0:\n",
        "  print(\"has intriducido una edad negativa.Intentalo de nuevo\")\n",
        "  edad=int(input(\"Introduce tu edad:\"))\n",
        "print(\"Gracias por participar, puedes pasar\")\n",
        "print(\"Edad del concursante \"+str(edad))"
      ],
      "execution_count": 34,
      "outputs": [
        {
          "output_type": "stream",
          "text": [
            "Intoduce tu edad:-8\n",
            "has intriducido una edad negativa.Intentalo de nuevo\n",
            "Introduce tu edad:-5\n",
            "has intriducido una edad negativa.Intentalo de nuevo\n",
            "Introduce tu edad:7\n",
            "Gracias por participar, puedes pasar\n",
            "Edad del concursante 7\n"
          ],
          "name": "stdout"
        }
      ]
    }
  ]
}