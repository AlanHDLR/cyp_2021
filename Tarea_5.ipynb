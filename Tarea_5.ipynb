{
  "nbformat": 4,
  "nbformat_minor": 0,
  "metadata": {
    "colab": {
      "name": "Tarea 5",
      "provenance": [],
      "authorship_tag": "ABX9TyOrn2IW8ImYclfQIPJcfR9j",
      "include_colab_link": true
    },
    "kernelspec": {
      "name": "python3",
      "display_name": "Python 3"
    }
  },
  "cells": [
    {
      "cell_type": "markdown",
      "metadata": {
        "id": "view-in-github",
        "colab_type": "text"
      },
      "source": [
        "<a href=\"https://colab.research.google.com/github/AlanHDLR/cyp_2021/blob/main/Tarea_5.ipynb\" target=\"_parent\"><img src=\"https://colab.research.google.com/assets/colab-badge.svg\" alt=\"Open In Colab\"/></a>"
      ]
    },
    {
      "cell_type": "code",
      "metadata": {
        "colab": {
          "base_uri": "https://localhost:8080/"
        },
        "id": "cHjZ88YapKLc",
        "outputId": "e3d84644-7080-4d5d-b5a9-00a313277ff7"
      },
      "source": [
        "#Ejerccio 3.1 / \"for\"\n",
        "\n",
        "nomina = 0\n",
        "for i in range(1,11):\n",
        "  nom = float(input(f\"Dame tu sueldo trabajador\" f\"{i}\\n$\"))\n",
        "  nomina = nomina + nom\n",
        "print(\"La nomina es:$\",nomina)"
      ],
      "execution_count": null,
      "outputs": [
        {
          "output_type": "stream",
          "text": [
            "Dame tu sueldo trabajador1\n",
            "$1500\n",
            "Dame tu sueldo trabajador2\n",
            "$890\n",
            "Dame tu sueldo trabajador3\n",
            "$700\n",
            "Dame tu sueldo trabajador4\n",
            "$950\n",
            "Dame tu sueldo trabajador5\n",
            "$2300\n",
            "Dame tu sueldo trabajador6\n",
            "$1650\n",
            "Dame tu sueldo trabajador7\n",
            "$1800\n",
            "Dame tu sueldo trabajador8\n",
            "$1400\n",
            "Dame tu sueldo trabajador9\n",
            "$760\n",
            "Dame tu sueldo trabajador10\n",
            "$900\n",
            "La nomina es:$ 12850.0\n"
          ],
          "name": "stdout"
        }
      ]
    },
    {
      "cell_type": "code",
      "metadata": {
        "colab": {
          "base_uri": "https://localhost:8080/"
        },
        "id": "o-7UPaw6r4Q7",
        "outputId": "cd7f4e1e-9386-452e-e460-24952f0e7fb0"
      },
      "source": [
        "#Ejercicio 3.1 / sin estructuras repetitivas\n",
        "\n",
        "sue1 = float(input(\"Dame tu sueldo trabajador 1:\"\"\\n$\"))\n",
        "sue2 = float(input(\"Dame tu sueldo trabajador 2:\"\"\\n$\"))\n",
        "sue3 = float(input(\"Dame tu sueldo trabajador 3:\"\"\\n$\"))\n",
        "sue4 = float(input(\"Dame tu sueldo trabajador 4:\"\"\\n$\"))\n",
        "sue5 = float(input(\"Dame tu sueldo trabajador 5:\"\"\\n$\"))\n",
        "sue6 = float(input(\"Dame tu sueldo trabajador 6:\"\"\\n$\"))\n",
        "sue7 = float(input(\"Dame tu sueldo trabajador 7:\"\"\\n$\"))\n",
        "sue8 = float(input(\"Dame tu sueldo trabajador 8:\"\"\\n$\"))\n",
        "sue9 = float(input(\"Dame tu sueldo trabajador 9:\"\"\\n$\"))\n",
        "sue10 = float(input(\"Dame tu sueldo trabajador 10:\"\"\\n$\"))\n",
        "\n",
        "nom = sue1 + sue2 + sue3 + sue4 + sue5 + sue6 + sue7 + sue8 + sue9 + sue10  \n",
        "\n",
        "print(\"La nomina es:$\",nom)\n"
      ],
      "execution_count": null,
      "outputs": [
        {
          "output_type": "stream",
          "text": [
            "Dame tu sueldo trabajador 1:\n",
            "$1500\n",
            "Dame tu sueldo trabajador 2:\n",
            "$890\n",
            "Dame tu sueldo trabajador 3:\n",
            "$700\n",
            "Dame tu sueldo trabajador 4:\n",
            "$950\n",
            "Dame tu sueldo trabajador 5:\n",
            "$2300\n",
            "Dame tu sueldo trabajador 6:\n",
            "$1650\n",
            "Dame tu sueldo trabajador 7:\n",
            "$1800\n",
            "Dame tu sueldo trabajador 8:\n",
            "$1400\n",
            "Dame tu sueldo trabajador 9:\n",
            "$760\n",
            "Dame tu sueldo trabajador 10:\n",
            "$900\n",
            "La nomina es:$ 12850.0\n"
          ],
          "name": "stdout"
        }
      ]
    },
    {
      "cell_type": "code",
      "metadata": {
        "colab": {
          "base_uri": "https://localhost:8080/"
        },
        "id": "vJJxnfhTHrXQ",
        "outputId": "510088a6-4cfb-4489-a75d-b56520206588"
      },
      "source": [
        "#Ejercicio 3.4 / while\n",
        "\n",
        "sumgas1 = 0\n",
        "gas = 0\n",
        "gastos = 0\n",
        "\n",
        "gas = int(input(\"¿Cúanto es del primer gasto?\\n$\"))\n",
        "\n",
        "while (gas >= 0 ):\n",
        "  gastos = int(input(\"¿Cúanto es del siguiente gasto?\\n$\"))\n",
        "  sumgas1 = sumgas1 + gastos \n",
        "  gasto = sumgas1 + gas\n",
        "  if ( gastos <= 0):\n",
        "    print(\"El total de los gastos es:\\n$\",gasto)\n",
        "    break\n",
        "\n",
        "\n",
        "\n",
        "\n",
        "\n"
      ],
      "execution_count": 50,
      "outputs": [
        {
          "output_type": "stream",
          "text": [
            "¿Cúanto es del primer gasto?\n",
            "$2528\n",
            "¿Cúanto es del siguiente gasto?\n",
            "$3500\n",
            "¿Cúanto es del siguiente gasto?\n",
            "$1600\n",
            "¿Cúanto es del siguiente gasto?\n",
            "$1850\n",
            "¿Cúanto es del siguiente gasto?\n",
            "$150\n",
            "¿Cúanto es del siguiente gasto?\n",
            "$0\n",
            "El total de los gastos es:\n",
            "$ 9628\n"
          ],
          "name": "stdout"
        }
      ]
    }
  ]
}