{
  "nbformat": 4,
  "nbformat_minor": 0,
  "metadata": {
    "colab": {
      "name": "C y P  12/01/2021",
      "provenance": [],
      "authorship_tag": "ABX9TyNYGR5uFt0dI0zaIgQYN2I1",
      "include_colab_link": true
    },
    "kernelspec": {
      "name": "python3",
      "display_name": "Python 3"
    }
  },
  "cells": [
    {
      "cell_type": "markdown",
      "metadata": {
        "id": "view-in-github",
        "colab_type": "text"
      },
      "source": [
        "<a href=\"https://colab.research.google.com/github/AlanHDLR/cyp_2021/blob/main/C_y_P_12_01_2021.ipynb\" target=\"_parent\"><img src=\"https://colab.research.google.com/assets/colab-badge.svg\" alt=\"Open In Colab\"/></a>"
      ]
    },
    {
      "cell_type": "code",
      "metadata": {
        "id": "lt-EzioJ9kSb"
      },
      "source": [
        ""
      ],
      "execution_count": null,
      "outputs": []
    },
    {
      "cell_type": "markdown",
      "metadata": {
        "id": "nXx-bUO09k8K"
      },
      "source": [
        "# Introduccion\r\n",
        "- Creado en los 90´s por Guido Van R.\r\n",
        "- En el 2000 python mejora y tiene nuevas caracteristicas\r\n",
        "- En 2020 deja de ser la version oficial 2.7 y solo se le dara soporte a partir de la version 3 en adelante\r\n",
        "\r\n",
        "## Caracteristicas de Python\r\n",
        "1. Lenguaje de proposito General.\r\n",
        "2. Interpretado y no-Compilado\r\n",
        "3. Tipos de datos dinamicos (Cadena, Numericos, Bool, entre otros)\r\n",
        "4. Multiplataforma\r\n",
        "5. Lenguaje Multi-Paradigma(Imperativa,POO y Funcional).\r\n",
        "6. Codigo Estructurado por identacion\r\n",
        "\r\n",
        "``` \r\n",
        "if a > 10:\r\n",
        "    print(\"Hola\")\r\n",
        "print (\"hola dos\")\r\n",
        "``` \r\n",
        "## Principios Zen de Python\r\n",
        " son las caractertisticas que guian el diseño del lenguaje de programacion Python"
      ]
    },
    {
      "cell_type": "code",
      "metadata": {
        "colab": {
          "base_uri": "https://localhost:8080/"
        },
        "id": "tBlBoaYP9wAN",
        "outputId": "f359e470-4ad8-4a5f-99b7-1f4432737cbe"
      },
      "source": [
        "# Primer programa en Python 3\r\n",
        "\r\n",
        "nombre = \"Jose\"\r\n",
        "edad = 18\r\n",
        "print(\"hola\", nombre, edad)"
      ],
      "execution_count": 3,
      "outputs": [
        {
          "output_type": "stream",
          "text": [
            "hola Jose 18\n"
          ],
          "name": "stdout"
        }
      ]
    },
    {
      "cell_type": "markdown",
      "metadata": {
        "id": "gqGt9xHj99VC"
      },
      "source": [
        "# La funcion print()\r\n",
        "es una de las funciones mas empleadas en la programacion y busca enviar datosa la salida estandar (monitor)\r\n",
        "\r\n",
        "### Formas de uso \r\n",
        "\r\n",
        "1. Con comas \r\n",
        "1. Con signos +\r\n",
        "1. .format()\r\n",
        "1. el operador f\"\r\n",
        "\r\n",
        "### Con comas\r\n",
        "\r\n",
        "concantena los argumentos enviados a print y les agrega un espacio.\r\n",
        "\r\n",
        "### Con signo +\r\n",
        "\r\n",
        "Concantena los valores ain espacio y sin hacer conversion de tipos.\r\n",
        "\r\n",
        "### Con la funcion format()\r\n",
        "\r\n",
        "permite darle formato a la salida de la impresion de variables.\r\n",
        "Emplea la funcion format del tipo de dato String .\r\n",
        "``` \r\n",
        "\"Cadena {} a {} form{}tear\".format(v1,v2,vn)\r\n",
        "``` \r\n",
        "\r\n",
        "### Con el operador f\"\"\r\n",
        "\r\n",
        "Es una variante de la forma amterior \r\n",
        "pero enmascarando la funcion format().\r\n",
        "\r\n",
        "print(f\" adadas {var} adadas {var2} adadas {varn}\")\r\n"
      ]
    },
    {
      "cell_type": "code",
      "metadata": {
        "colab": {
          "base_uri": "https://localhost:8080/"
        },
        "id": "wbrmkRaU-BjO",
        "outputId": "3045f8ca-b8ee-4a75-92b3-4384bae6a0d6"
      },
      "source": [
        "print(\"Hola\", nombre, edad)\r\n",
        "print(\"Hola\"+ nombre + \" \"+ str(edad) )\r\n",
        "\r\n",
        "#Nombre: Jose con una edad de: 18 años\r\n",
        "print(\"Nombre:\", nombre,\"Con una edad de:\", edad)\r\n",
        "print(\"Nombre:\"+ \" \" + nombre + \" \" + \"Con una edad de:\" + str(edad))\r\n",
        "\r\n",
        "#Con format()\r\n",
        "print(\"Nombre: {}, con una edad de: {} años.\".format(nombre,edad))\r\n",
        "\r\n",
        "#Con el operador f\"\"\r\n",
        "print(f\"Nombre: {nombre} con una edad de {edad} años.\")"
      ],
      "execution_count": 4,
      "outputs": [
        {
          "output_type": "stream",
          "text": [
            "Hola Jose 18\n",
            "HolaJose 18\n",
            "Nombre: Jose Con una edad de: 18\n",
            "Nombre: Jose Con una edad de:18\n",
            "Nombre: Jose, con una edad de: 18 años.\n",
            "Nombre: Jose con una edad de 18 años.\n"
          ],
          "name": "stdout"
        }
      ]
    },
    {
      "cell_type": "markdown",
      "metadata": {
        "id": "s0TzUO_t-G5I"
      },
      "source": [
        "#Funcion print() y sus caracteres de escape\r\n",
        "\r\n",
        "- \\n saldo de linea\r\n",
        "- \\t tabulador\r\n",
        "- \\ imprimir la diagonal\r\n",
        "- 'y\" \r\n",
        "- \\uxxxx\r\n",
        "\\uxxxxxx"
      ]
    },
    {
      "cell_type": "code",
      "metadata": {
        "colab": {
          "base_uri": "https://localhost:8080/"
        },
        "id": "ek0xqvde-IOD",
        "outputId": "45a886b5-d979-4fde-9705-eb77039fd78b"
      },
      "source": [
        "print(' \"')\r\n",
        "print(\"\\\"\")\r\n",
        "print(\"Nombre: José\\n\\tcon una edad \\\\de: 18 años\")\r\n",
        "#Caracteresd Unicode\r\n",
        "\r\n",
        "print(\"Hola \\u2661\")\r\n",
        "print(\"Hola \\u2618\")"
      ],
      "execution_count": 5,
      "outputs": [
        {
          "output_type": "stream",
          "text": [
            " \"\n",
            "\"\n",
            "Nombre: José\n",
            "\tcon una edad \\de: 18 años\n",
            "Hola ♡\n",
            "Hola ☘\n"
          ],
          "name": "stdout"
        }
      ]
    },
    {
      "cell_type": "markdown",
      "metadata": {
        "id": "gN3JlyD3-Opn"
      },
      "source": [
        "### print y salto de linea en el argumento\r\n",
        "print([lista de variables],end=\"\\n\")"
      ]
    },
    {
      "cell_type": "code",
      "metadata": {
        "colab": {
          "base_uri": "https://localhost:8080/"
        },
        "id": "sLseKrFB-QG7",
        "outputId": "99fd7a3d-9cdd-4cca-ee8a-0ee30442a08e"
      },
      "source": [
        "print(\" Hola \")\r\n",
        "print( \" Mundo \")\r\n",
        "print(\" Fin \")"
      ],
      "execution_count": 6,
      "outputs": [
        {
          "output_type": "stream",
          "text": [
            " Hola \n",
            " Mundo \n",
            " Fin \n"
          ],
          "name": "stdout"
        }
      ]
    },
    {
      "cell_type": "markdown",
      "metadata": {
        "id": "p0aY6Nf5_ZTB"
      },
      "source": [
        "#Comentarios en Python.\r\n",
        "Un comentario en programación, es un texto especial que es ignorado por el interprete o compilador (Según dea el caso) y es empleado para que el programador documente sus algoritmos.\r\n",
        "\r\n",
        "Existen de dos tipos: De línea simple y múltiple línea.\r\n",
        "\r\n",
        "En Python.\r\n",
        "\r\n",
        "- Línea simple emplea #\r\n",
        "\r\n",
        "- Línea múltiple\r\n",
        "\r\n",
        "Esto\r\n",
        "esun comentario de \r\n",
        "linea\r\n",
        "multiple"
      ]
    },
    {
      "cell_type": "code",
      "metadata": {
        "colab": {
          "base_uri": "https://localhost:8080/"
        },
        "id": "It2fp95__Z1i",
        "outputId": "63bd89d9-b386-420d-a22b-3108248ebbeb"
      },
      "source": [
        "print(\"Hola\")\r\n",
        "#print(\"Hola\")\r\n",
        "#cualquier cosa\r\n",
        "print(\"Hola\")\r\n",
        "print(\"Hola\") #Esta líne imprime Hola\r\n",
        "print(\"Hola\")\r\n",
        "print(\"Hola\")\r\n",
        "\"\"\"\r\n",
        "esto es un comentario de múltiple línea.\r\n",
        "Ideal para cuando se desea explicar algo a fondo \r\n",
        "que requiere mayor detalle\r\n",
        "\"\"\"\r\n",
        "print(\"Hola\")\r\n",
        "print(\"Hola\")\r\n",
        "\r\n"
      ],
      "execution_count": 7,
      "outputs": [
        {
          "output_type": "stream",
          "text": [
            "Hola\n",
            "Hola\n",
            "Hola\n",
            "Hola\n",
            "Hola\n",
            "Hola\n",
            "Hola\n"
          ],
          "name": "stdout"
        }
      ]
    }
  ]
}