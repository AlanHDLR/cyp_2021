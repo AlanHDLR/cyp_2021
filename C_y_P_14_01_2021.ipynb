{
  "nbformat": 4,
  "nbformat_minor": 0,
  "metadata": {
    "colab": {
      "name": "C y P  14/01/2021",
      "provenance": [],
      "authorship_tag": "ABX9TyMn46o5V5pOl9wNV1LgRgde",
      "include_colab_link": true
    },
    "kernelspec": {
      "name": "python3",
      "display_name": "Python 3"
    }
  },
  "cells": [
    {
      "cell_type": "markdown",
      "metadata": {
        "id": "view-in-github",
        "colab_type": "text"
      },
      "source": [
        "<a href=\"https://colab.research.google.com/github/AlanHDLR/cyp_2021/blob/main/C_y_P_14_01_2021.ipynb\" target=\"_parent\"><img src=\"https://colab.research.google.com/assets/colab-badge.svg\" alt=\"Open In Colab\"/></a>"
      ]
    },
    {
      "cell_type": "markdown",
      "metadata": {
        "id": "KJNvhmjN7rOi"
      },
      "source": [
        "#Palabras reservadas de Python 3"
      ]
    },
    {
      "cell_type": "code",
      "metadata": {
        "colab": {
          "base_uri": "https://localhost:8080/"
        },
        "id": "TBueYdgt7XcT",
        "outputId": "7096c7a4-7699-4d24-b9c1-d57c1b4b771e"
      },
      "source": [
        "import keyword\r\n",
        "pr = keyword.kwlist\r\n",
        "print( len(pr))\r\n",
        "for palabra in pr :\r\n",
        "  print(palabra , end=\",\")"
      ],
      "execution_count": 5,
      "outputs": [
        {
          "output_type": "stream",
          "text": [
            "33\n",
            "False,None,True,and,as,assert,break,class,continue,def,del,elif,else,except,finally,for,from,global,if,import,in,is,lambda,nonlocal,not,or,pass,raise,return,try,while,with,yield,"
          ],
          "name": "stdout"
        }
      ]
    },
    {
      "cell_type": "code",
      "metadata": {
        "colab": {
          "base_uri": "https://localhost:8080/"
        },
        "id": "PamT_v3KR2cW",
        "outputId": "c9fedd46-6610-4e2a-cb17-92bfe45ac550"
      },
      "source": [
        "import keyword\r\n",
        "pr = keyword.kwlist\r\n",
        "print( len(pr))\r\n",
        "for palabra in pr :\r\n",
        "  print(\"1.\", palabra , end=\",\")"
      ],
      "execution_count": 6,
      "outputs": [
        {
          "output_type": "stream",
          "text": [
            "33\n",
            "1. False,1. None,1. True,1. and,1. as,1. assert,1. break,1. class,1. continue,1. def,1. del,1. elif,1. else,1. except,1. finally,1. for,1. from,1. global,1. if,1. import,1. in,1. is,1. lambda,1. nonlocal,1. not,1. or,1. pass,1. raise,1. return,1. try,1. while,1. with,1. yield,"
          ],
          "name": "stdout"
        }
      ]
    },
    {
      "cell_type": "markdown",
      "metadata": {
        "id": "LID70Ui778ZQ"
      },
      "source": [
        "## Variable\r\n",
        "Es un espacio de memoria de la\r\n",
        " computadora para almacenar valores que \r\n",
        " cambian a lo largo de la ejecucion del\r\n",
        "programa. Este espacio de memoria esta rederenciado por un identificador de variable:\r\n",
        "- No puede iniciar con número\r\n",
        "-No debe ser igual a laguna de las palabras reservadas\r\n",
        "-Evitar nombres de variables largos\r\n",
        "-Evitar muy cortos, ejemplo: x,y,z\r\n",
        "-Usar notación snake_case"
      ]
    },
    {
      "cell_type": "code",
      "metadata": {
        "colab": {
          "base_uri": "https://localhost:8080/"
        },
        "id": "MKQihNpL9IjU",
        "outputId": "b6052199-4870-4445-bfb9-d549c347347e"
      },
      "source": [
        "_2edad = 12\r\n",
        "print(_2edad)\r\n",
        "\r\n",
        "\"\"\"\r\n",
        "No se puede usar una palabra reservadacomo identificador de variable:\r\n",
        "\r\n",
        "for= 12\r\n",
        "print(for)\r\n",
        "\"\"\"\r\n",
        "_2edad"
      ],
      "execution_count": 7,
      "outputs": [
        {
          "output_type": "stream",
          "text": [
            "12\n"
          ],
          "name": "stdout"
        },
        {
          "output_type": "execute_result",
          "data": {
            "text/plain": [
              "12"
            ]
          },
          "metadata": {
            "tags": []
          },
          "execution_count": 7
        }
      ]
    },
    {
      "cell_type": "code",
      "metadata": {
        "id": "A1sbfVjW9csY"
      },
      "source": [
        "\"\"\"\r\n",
        "La notación snake case consta de formar el identificador de la variable separando las palabras del mismo \r\n",
        "un guion bajo.\r\n",
        "\r\n",
        "Se recomienda que los identificadores se escriban en minúsculas para las variables\r\n",
        "y en mayúsculas para las constantes\r\n",
        "\r\n",
        "Es decir si tenemos una variable para los días de la semana, se escribiría así:\r\n",
        "\r\n",
        "dias_de_la_semana = 7\r\n",
        "dias_mes = 31\r\n",
        "\r\n",
        "\"\"\""
      ],
      "execution_count": null,
      "outputs": []
    },
    {
      "cell_type": "markdown",
      "metadata": {
        "id": "IOVLG89R96gW"
      },
      "source": [
        "#Tipos de datos\r\n",
        "- Númericos\r\n",
        " - int 4 bytes ( 1, 2, 23454, etc. )\r\n",
        " - float 4 bytes (1.14, 3.1416, 1.0)\r\n",
        " - long 8 bytes (2, 2, 3, 354772,etc.)\r\n",
        " - complex 3 + 2j (Raices negativas)\r\n",
        "-Boolean: True or False \r\n",
        "-String: Cadenas de caracteres (\"cad\", 'cad' o \"\"\"\"cad\"\"\")\r\n",
        "-Listas: ([1,2,3,4], [a,b,1,2,3])\r\n",
        "-Tuplas: ((edad,23) , (3, 4))\r\n",
        "-Conjuntos\r\n",
        "-Diccionarios ({\"nombre\":\"Juan\"})"
      ]
    },
    {
      "cell_type": "markdown",
      "metadata": {
        "id": "GjN1PuoCEJo0"
      },
      "source": [
        "#Tipo de dato String\r\n",
        "\r\n",
        "Este tipo de dato permite almacenar cadenas de caracteres, por ejemplo:\r\n",
        "\r\n",
        "´´´´\r\n",
        "nombre = 'Jesus'\r\n",
        "lugar_nacimiento = \"México D.F., Tacuba\"\r\n",
        "frase_favorita = \"\"\"\r\n",
        "El conocimiento me persigue, \r\n",
        "pero...\r\n",
        "yo soy mas rapido!!!\r\n",
        ":)\r\n",
        "\"\"\"\r\n",
        "´´´´\r\n"
      ]
    },
    {
      "cell_type": "code",
      "metadata": {
        "colab": {
          "base_uri": "https://localhost:8080/"
        },
        "id": "DU6583AGFRwQ",
        "outputId": "08f938e9-afeb-44b8-b93f-529675b60621"
      },
      "source": [
        "nombre = 'Jesus'\r\n",
        "lugar_nacimiento = \"México D.F., Tacuba\"\r\n",
        "frase_favorita = \"\"\"\r\n",
        "El conocimiento me persigue, \r\n",
        "pero...\r\n",
        "yo soy mas rapido!!!\r\n",
        ":)\r\n",
        "\"\"\"\r\n",
        "\r\n",
        "print(nombre)\r\n",
        "print(lugar_nacimiento)\r\n",
        "print(frase_favorita)"
      ],
      "execution_count": 3,
      "outputs": [
        {
          "output_type": "stream",
          "text": [
            "Jesus\n",
            "México D.F., Tacuba\n",
            "\n",
            "El conocimiento me persigue, \n",
            "pero...\n",
            "yo soy mas rapido!!!\n",
            ":)\n",
            "\n"
          ],
          "name": "stdout"
        }
      ]
    },
    {
      "cell_type": "markdown",
      "metadata": {
        "id": "Pao0Gvv4Fl6U"
      },
      "source": [
        "#Strings como arreglo\r\n",
        "Un string en python  es almacenado \r\n",
        "como el tipo de datos (estructura de datos) arreglo.\r\n",
        "por ejemplo la declaración:\r\n",
        "```\r\n",
        "nombre = Jesús\r\n",
        "```\r\n",
        "El elemento 'J' es almacenado en la posicion 0.\r\n",
        " La 'e' en la 1 y asi sucesivamente.\r\n",
        "\r\n",
        " ### Selector\r\n",
        " la notacion para seleccionar un elemto del arreglo es:\r\n",
        "````\r\n",
        " [ 1 ]\r\n",
        "````\r\n",
        " Donde el valor interno debe ser un  valor numerico entero "
      ]
    },
    {
      "cell_type": "code",
      "metadata": {
        "colab": {
          "base_uri": "https://localhost:8080/"
        },
        "id": "PRYt6DkzGfSF",
        "outputId": "599f73ad-c48f-40b2-c26a-c1e80686514e"
      },
      "source": [
        "nombre = 'Jesús'\r\n",
        "print(nombre)\r\n",
        "print(nombre[0])\r\n",
        "print(nombre[3])"
      ],
      "execution_count": 4,
      "outputs": [
        {
          "output_type": "stream",
          "text": [
            "Jesús\n",
            "J\n",
            "ú\n"
          ],
          "name": "stdout"
        }
      ]
    },
    {
      "cell_type": "markdown",
      "metadata": {
        "id": "ko1MQTLkSl-q"
      },
      "source": [
        "# Iterar sobre un String\r\n",
        "\r\n",
        "Se puede iterar sobre un String con\r\n",
        "un for de la forma:\r\n",
        "````\r\n",
        "for letra in range) len(nombre) ):\r\n",
        "  print( letra )\r\n",
        "  ````"
      ]
    },
    {
      "cell_type": "code",
      "metadata": {
        "colab": {
          "base_uri": "https://localhost:8080/"
        },
        "id": "40rQJIFASoJD",
        "outputId": "65c44eb9-71e1-4c9e-8554-4b9c82253c07"
      },
      "source": [
        "for indice in range( len(nombre) ): #0, 1, 2, 3, 4\r\n",
        "  print( indice, end = \" \" )\r\n",
        "  print(nombre [indice] )"
      ],
      "execution_count": 8,
      "outputs": [
        {
          "output_type": "stream",
          "text": [
            "0 J\n",
            "1 e\n",
            "2 s\n",
            "3 ú\n",
            "4 s\n"
          ],
          "name": "stdout"
        }
      ]
    },
    {
      "cell_type": "markdown",
      "metadata": {
        "id": "pGpMxe5vSyul"
      },
      "source": [
        "# Funcion range(inicio, stop\r\n",
        ",incremento)\r\n",
        "El inicio es opcional y por defecto tiene el valor 0\r\n",
        "\r\n",
        "El incremento tambien es opcional y por defecto es 1"
      ]
    },
    {
      "cell_type": "code",
      "metadata": {
        "colab": {
          "base_uri": "https://localhost:8080/"
        },
        "id": "iuJ4UkicS_sj",
        "outputId": "7ea451dc-c749-4e5e-b3e2-047b10292aa8"
      },
      "source": [
        "for indice in range(1, len(nombre) , 1) :\r\n",
        "  print(nombre[indice])"
      ],
      "execution_count": 9,
      "outputs": [
        {
          "output_type": "stream",
          "text": [
            "e\n",
            "s\n",
            "ú\n",
            "s\n"
          ],
          "name": "stdout"
        }
      ]
    },
    {
      "cell_type": "code",
      "metadata": {
        "colab": {
          "base_uri": "https://localhost:8080/"
        },
        "id": "WrGuSZtTTMQz",
        "outputId": "78aafbb2-4df9-4943-817b-be1106e70bed"
      },
      "source": [
        "for indice in range(3, -1 , -1) :\r\n",
        "  print(nombre[indice])"
      ],
      "execution_count": 10,
      "outputs": [
        {
          "output_type": "stream",
          "text": [
            "ú\n",
            "s\n",
            "e\n",
            "J\n"
          ],
          "name": "stdout"
        }
      ]
    },
    {
      "cell_type": "markdown",
      "metadata": {
        "id": "G6z5RqPqTVe0"
      },
      "source": [
        "# Strings e indexado negativo\r\n",
        "En python 3 se agrega una nueva\r\n",
        "caracteristicas a los arreglos de las cadenas de caracteres, esta consta\r\n",
        " de la capacidad de indexar de forma\r\n",
        " negativa.\r\n",
        " La logica es la siguiente.\r\n",
        "\r\n",
        " El ultimo elemento se le considera como indice (ALTERNATIVO) -1, con lo cual se podria referenciar el final de la cadena sin la necesidad de saber el tamaño de la misma.\r\n",
        " ````\r\n",
        " nombre = 'Alan'\r\n",
        "\r\n",
        "\r\n",
        " Indice normal:       0  1  2  3  4 5\r\n",
        "                      L  u  i  s\r\n",
        " Indice Alternativo: -5 -4 -3 -2 -1 0\r\n",
        "\r\n",
        "  ````"
      ]
    },
    {
      "cell_type": "code",
      "metadata": {
        "colab": {
          "base_uri": "https://localhost:8080/"
        },
        "id": "xiV782m8Tjze",
        "outputId": "763fd627-a1ea-4a46-d0a1-021acd3b0d4c"
      },
      "source": [
        "nombre = \"Alan\"\r\n",
        "print( nombre[3] ) #Indexado Normal\r\n",
        "print( nombre[-1] ) #Indexado alternativo ( Negativo )\r\n",
        "print(\"\")\r\n",
        "for indice_alter in range(-1, -5 , -1):\r\n",
        "  print( nombre[indice_alter] )"
      ],
      "execution_count": 11,
      "outputs": [
        {
          "output_type": "stream",
          "text": [
            "n\n",
            "n\n",
            "\n",
            "n\n",
            "a\n",
            "l\n",
            "A\n"
          ],
          "name": "stdout"
        }
      ]
    },
    {
      "cell_type": "markdown",
      "metadata": {
        "id": "7fEc7xO-Tqr1"
      },
      "source": [
        "#Slicing de cadenas de caracteres.\r\n",
        "\r\n",
        "Esta caracteristica permite sacar secciones de una cadena con la siguiente sintaxis:\r\n",
        "```\r\n",
        "[ inicio : stop : incremento ]\r\n",
        "```\r\n",
        "donde inicio e incremento son opcionales y tambien soportan indexado alternativo (Negativos)"
      ]
    },
    {
      "cell_type": "code",
      "metadata": {
        "colab": {
          "base_uri": "https://localhost:8080/"
        },
        "id": "RlU0ULRZT4Ks",
        "outputId": "8cbfc252-da41-41a9-a254-ec9ee89d465d"
      },
      "source": [
        "facultad = \"Facultad de Estudios Superiores Aragon (La mejor)\"\r\n",
        "\r\n",
        "print(facultad)\r\n",
        "for indice in range(12, 20, 1):\r\n",
        "  print(facultad[indice] , end =\"\")\r\n",
        "\r\n",
        "  #Hacer esto mismo con la caracteristica Slicing se logra asi:\r\n",
        "print(\"\\nCon Slicing\")\r\n",
        "print(facultad[12:20:1])\r\n",
        "\r\n",
        "#La palabra 'de' con Slicing\r\n",
        "\r\n",
        "print(facultad[9:11:1])\r\n",
        "\r\n",
        "#La frase '(La mejor)' con indexado alternativo y Slicing\r\n",
        "\r\n",
        "print(facultad[41:32:1])"
      ],
      "execution_count": 12,
      "outputs": [
        {
          "output_type": "stream",
          "text": [
            "Facultad de Estudios Superiores Aragon (La mejor)\n",
            "Estudios\n",
            "Con Slicing\n",
            "Estudios\n",
            "de\n",
            "\n"
          ],
          "name": "stdout"
        }
      ]
    }
  ]
}