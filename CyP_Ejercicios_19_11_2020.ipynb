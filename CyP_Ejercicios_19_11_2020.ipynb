{
  "nbformat": 4,
  "nbformat_minor": 0,
  "metadata": {
    "colab": {
      "name": "CyP Ejercicios 19/11/2020",
      "provenance": [],
      "authorship_tag": "ABX9TyOGOAHx/FkOssPFHGC60W+5",
      "include_colab_link": true
    },
    "kernelspec": {
      "name": "python3",
      "display_name": "Python 3"
    }
  },
  "cells": [
    {
      "cell_type": "markdown",
      "metadata": {
        "id": "view-in-github",
        "colab_type": "text"
      },
      "source": [
        "<a href=\"https://colab.research.google.com/github/AlanHDLR/cyp_2021/blob/main/CyP_Ejercicios_19_11_2020.ipynb\" target=\"_parent\"><img src=\"https://colab.research.google.com/assets/colab-badge.svg\" alt=\"Open In Colab\"/></a>"
      ]
    },
    {
      "cell_type": "code",
      "metadata": {
        "id": "vAeUoB5j2CjR"
      },
      "source": [
        "#Concepto de asignación \n",
        "I = 0\n",
        "I = I + 1\n",
        "I = I + 1\n",
        "print(f\"I= {I}\")\n",
        "J = 5 ** 2 / 3\n",
        "print(f\"J = { J }\")"
      ],
      "execution_count": null,
      "outputs": []
    },
    {
      "cell_type": "code",
      "metadata": {
        "id": "euoNuimo2Koa"
      },
      "source": [
        "#Declaracion de variables (apartando memoria)\n",
        "A = 0\n",
        "B = 0\n",
        "C = 0\n",
        "D = 0\n",
        "\n",
        "A = int (input(\"Dame un valor entero\"))\n",
        "B = int (input(\"Dame un valor entero\"))\n",
        "C = int (input(\"Dame un valor entero\"))\n",
        "D = int (input(\"Dame un valor entero\"))\n",
        "\n",
        "print(D)\n",
        "print(C)\n",
        "print(B)\n",
        "print(A)"
      ],
      "execution_count": null,
      "outputs": []
    },
    {
      "cell_type": "code",
      "metadata": {
        "id": "SJTLiKlj2PPP"
      },
      "source": [
        "#Ejemplo 1.7\n",
        "A = 0\n",
        "B = 0\n",
        "A = int( input(\"Dame un número entero\") )\n",
        "B = int( input(\"Dame otro número entero\") )\n",
        "RES = (A + B) ** 2 / 3\n",
        "print(RES)"
      ],
      "execution_count": null,
      "outputs": []
    },
    {
      "cell_type": "code",
      "metadata": {
        "id": "G4irOcvH2Tv_"
      },
      "source": [
        "#Ejeplo 1.8\n",
        "\n",
        "MAT = 0\n",
        "CAL1 = 0\n",
        "CAL2 = 0\n",
        "CAL3 = 0\n",
        "CAL4 = 0\n",
        "CAL5 = 0\n",
        "PRO = 0.0\n",
        "\n",
        "MAT = int(input(\"Dame la matricula\"))\n",
        "CAL1 =float(input(\"DAME LA CALIFICACION 1\"))\n",
        "CAL2 =float(input(\"DAME LA CALIFICACION 2\"))\n",
        "CAL3 =float(input(\"DAME LA CALIFICACION 3\"))\n",
        "CAL4 =float(input(\"DAME LA CALIFICACION 4\"))\n",
        "CAL5 =float(input(\"DAME LA CALIFICACION 5\"))\n",
        "\n",
        "PRO = ( CAL1 + CAL2 + CAL3 + CAL4 +CAL5 ) / 5\n",
        "print( MAT , PRO )\n"
      ],
      "execution_count": null,
      "outputs": []
    },
    {
      "cell_type": "code",
      "metadata": {
        "colab": {
          "base_uri": "https://localhost:8080/"
        },
        "id": "k0ZV60JK2bMl",
        "outputId": "052ec370-2b6e-403e-c373-14c99dc8ee84"
      },
      "source": [
        "#Ejemplo 1.9\n",
        "NUM = int(input(\"DAME UN NUMERO: \"))\n",
        "\n",
        "print(NUM ** 2)\n",
        "print(NUM ** 3)\n"
      ],
      "execution_count": 1,
      "outputs": [
        {
          "output_type": "stream",
          "text": [
            "DAME UN NUMERO: 7\n",
            "49\n",
            "343\n"
          ],
          "name": "stdout"
        }
      ]
    },
    {
      "cell_type": "code",
      "metadata": {
        "colab": {
          "base_uri": "https://localhost:8080/"
        },
        "id": "hUWP18QV2_kx",
        "outputId": "613d0070-7a05-4045-bf24-cf045c8e371a"
      },
      "source": [
        "#Ejemplo 1.10\n",
        "\n",
        "BASE = 0\n",
        "ALTURA = 0\n",
        "AREA = 0\n",
        "PERIMETRO = 0\n",
        "\n",
        "BASE = float(input(\"Ingresa base\"))\n",
        "ALTURA = float(input(\"Ingresa altura\"))\n",
        "AREA = ( BASE * ALTURA) / 2\n",
        "PERIMETRO = ( BASE + ALTURA ) * 2\n",
        "\n",
        "print(f\"El area es igual a {AREA}\")\n",
        "print(f\"El perimetro es igual a {PERIMETRO}\")"
      ],
      "execution_count": 4,
      "outputs": [
        {
          "output_type": "stream",
          "text": [
            "Ingresa base5\n",
            "Ingresa altura2\n",
            "El area es igual a 5.0\n",
            "El perimetro es igual a 14.0\n"
          ],
          "name": "stdout"
        }
      ]
    }
  ]
}