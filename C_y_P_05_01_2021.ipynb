{
  "nbformat": 4,
  "nbformat_minor": 0,
  "metadata": {
    "colab": {
      "name": "C y P 05/01/2021",
      "provenance": [],
      "authorship_tag": "ABX9TyO/ZqFxbhdMPmrK32HtjExG",
      "include_colab_link": true
    },
    "kernelspec": {
      "name": "python3",
      "display_name": "Python 3"
    }
  },
  "cells": [
    {
      "cell_type": "markdown",
      "metadata": {
        "id": "view-in-github",
        "colab_type": "text"
      },
      "source": [
        "<a href=\"https://colab.research.google.com/github/AlanHDLR/cyp_2021/blob/main/C_y_P_05_01_2021.ipynb\" target=\"_parent\"><img src=\"https://colab.research.google.com/assets/colab-badge.svg\" alt=\"Open In Colab\"/></a>"
      ]
    },
    {
      "cell_type": "code",
      "metadata": {
        "colab": {
          "base_uri": "https://localhost:8080/"
        },
        "id": "cJ-Sy1rGjc6t",
        "outputId": "b106e95f-ab7c-4992-efca-3154d5f65b8a"
      },
      "source": [
        "sueldos = [0.0 for x in range(8)]\r\n",
        "print(sueldos)\r\n",
        "sueldos[1] = 12.3\r\n",
        "sueldos[2] = 32.3\r\n",
        "sueldos[3] = 43.3\r\n",
        "sueldos[4] = 11.3\r\n",
        "sueldos[5] = 77.3\r\n",
        "sueldos[6] = 88.3\r\n",
        "sueldos[7] = 99.3\r\n",
        "print(sueldos)\r\n",
        "sueldo = 0\r\n",
        "for i in range(7):\r\n",
        "  print(f\"El trabajador { [i] } gana $ {sueldos[i]}\")\r\n"
      ],
      "execution_count": 21,
      "outputs": [
        {
          "output_type": "stream",
          "text": [
            "[0.0, 0.0, 0.0, 0.0, 0.0, 0.0, 0.0, 0.0]\n",
            "[0.0, 12.3, 32.3, 43.3, 11.3, 77.3, 88.3, 99.3]\n",
            "El trabajador [0] gana $ 0.0\n",
            "El trabajador [1] gana $ 12.3\n",
            "El trabajador [2] gana $ 32.3\n",
            "El trabajador [3] gana $ 43.3\n",
            "El trabajador [4] gana $ 11.3\n",
            "El trabajador [5] gana $ 77.3\n",
            "El trabajador [6] gana $ 88.3\n"
          ],
          "name": "stdout"
        }
      ]
    },
    {
      "cell_type": "code",
      "metadata": {
        "colab": {
          "base_uri": "https://localhost:8080/"
        },
        "id": "I-j3v6zTo1hY",
        "outputId": "6bdb0937-578e-4861-9774-b07c05ee05d8"
      },
      "source": [
        "#Problema 4.1\r\n",
        "MAXIMO = 7\r\n",
        "sueldos = [ 0.0 for x in range(MAXIMO)]\r\n",
        "suma = 0.0\r\n",
        "promedio = 0.0\r\n",
        "\r\n",
        "for i in range(MAXIMO):\r\n",
        "  sueldos[i]= float(input(\"Dame el sueldo:$ \"))\r\n",
        "\r\n",
        "for i in range(MAXIMO):\r\n",
        "  print(f\"Trabajador {i+1}, gana:{sueldos[i]}\")\r\n",
        "\r\n",
        "for i in range(MAXIMO):\r\n",
        "  suma = suma + sueldos[i]\r\n",
        "\r\n",
        "promedio = suma /MAXIMO\r\n",
        "\r\n",
        "print(f\"El promedio de sueldos es:${promedio}\")\r\n",
        "\r\n",
        "for i in range(MAXIMO):\r\n",
        "  if sueldos [i] > promedio:\r\n",
        "    print(f\"El trabajador {i+1} tiene un sueldo mayor al promedio\")\r\n"
      ],
      "execution_count": 23,
      "outputs": [
        {
          "output_type": "stream",
          "text": [
            "Dame el sueldo:$ 4\n",
            "Dame el sueldo:$ 5\n",
            "Dame el sueldo:$ 4\n",
            "Dame el sueldo:$ 5\n",
            "Dame el sueldo:$ 4\n",
            "Dame el sueldo:$ 5\n",
            "Dame el sueldo:$ 4\n",
            "Trabajador 1, gana:4.0\n",
            "Trabajador 2, gana:5.0\n",
            "Trabajador 3, gana:4.0\n",
            "Trabajador 4, gana:5.0\n",
            "Trabajador 5, gana:4.0\n",
            "Trabajador 6, gana:5.0\n",
            "Trabajador 7, gana:4.0\n",
            "El promedio de sueldos es:$4.428571428571429\n",
            "El trabajador 2 tiene un sueldo mayor al promedio\n",
            "El trabajador 4 tiene un sueldo mayor al promedio\n",
            "El trabajador 6 tiene un sueldo mayor al promedio\n"
          ],
          "name": "stdout"
        }
      ]
    },
    {
      "cell_type": "code",
      "metadata": {
        "colab": {
          "base_uri": "https://localhost:8080/"
        },
        "id": "LAXbmroEszAJ",
        "outputId": "57b64807-28b5-4a47-ee93-04a09eebfeba"
      },
      "source": [
        "valores = 5\r\n",
        "números = [0.0 for x in range(valores)]\r\n",
        "suma = 0\r\n",
        "mayor = 1000000000\r\n",
        "menor = 0\r\n",
        "\r\n",
        "for i in range(valores):\r\n",
        "  números [i] = int(input(\"Dame un número entero: \"))\r\n",
        "  if números[i] > menor:\r\n",
        "    menor = números[i]\r\n",
        "  elif números [i] < mayor:\r\n",
        "    mayor = números[i]\r\n",
        "\r\n",
        "\r\n",
        "for i in range(valores):\r\n",
        "  suma = suma + números[i]\r\n",
        "\r\n",
        "promedio = suma /valores\r\n",
        "\r\n",
        "print(f\"El mayor de los número es: {menor} \")\r\n",
        "print(f\"El menor de los número es: {mayor} \")\r\n",
        "print(f\"El promedio de los números es: {promedio}\")"
      ],
      "execution_count": 37,
      "outputs": [
        {
          "output_type": "stream",
          "text": [
            "Dame un número entero: 1\n",
            "Dame un número entero: 2\n",
            "Dame un número entero: 2\n",
            "Dame un número entero: 4\n",
            "Dame un número entero: 5\n",
            "El mayor de los número es: 5 \n",
            "El menor de los número es: 2 \n",
            "El promedio de los números es: 2.8\n"
          ],
          "name": "stdout"
        }
      ]
    },
    {
      "cell_type": "code",
      "metadata": {
        "colab": {
          "base_uri": "https://localhost:8080/"
        },
        "id": "nYwkT8Y2u-He",
        "outputId": "95f1c108-1d05-4949-d3d8-7ea643ee0a54"
      },
      "source": [
        "Max = 5\r\n",
        "valor =  [0.0 for x in range(Max)]\r\n",
        "sum = 0.0\r\n",
        "prom = 0.0\r\n",
        "M = 0\r\n",
        "m = 100000000\r\n",
        "\r\n",
        "for i in range(Max):\r\n",
        "  valor[i] = int(input(\"Dame un valor entero positivo: \"))\r\n",
        "  if valor[i] > M:\r\n",
        "    M = valor[i]\r\n",
        "  elif valor[i] < m:\r\n",
        "    m = valor[i]\r\n",
        "\r\n",
        "for i in range(Max):\r\n",
        "  sum = sum + valor[i]\r\n",
        "\r\n",
        "prom = sum / Max\r\n",
        "\r\n",
        "print(f\"El numero mayor es {M}\")\r\n",
        "print(f\"El numero menor es {m}\")\r\n",
        "print(f\"El promedio es {prom}\")"
      ],
      "execution_count": 35,
      "outputs": [
        {
          "output_type": "stream",
          "text": [
            "Dame un valor entero positivo: 1\n",
            "Dame un valor entero positivo: 2\n",
            "Dame un valor entero positivo: 3\n",
            "Dame un valor entero positivo: 4\n",
            "Dame un valor entero positivo: 5\n",
            "El numero mayor es 5\n",
            "El numero menor es 100000000\n",
            "El promedio es 3.0\n"
          ],
          "name": "stdout"
        }
      ]
    },
    {
      "cell_type": "code",
      "metadata": {
        "colab": {
          "base_uri": "https://localhost:8080/"
        },
        "id": "s-Y23fXxxTx4",
        "outputId": "7ff46656-3438-4585-db3d-0df2ca47609b"
      },
      "source": [
        "#Problema 4.1\r\n",
        "N = int(input(\"Ingrese el número de elementos del arreglo: \"))\r\n",
        "VEC = [] \r\n",
        "if 1 <= N and N <=500:\r\n",
        "  VEC = [0 for x in range(N)]\r\n",
        "  for i in range(N):\r\n",
        "    VEC[i] = int(input(\"Ingrese valor \"+str(i +1)+\":\"))\r\n",
        "  print(\"Lista de numeros sin repeticiones: \")\r\n",
        "\r\n",
        "  while i <N:\r\n",
        "    print(VEC[i])\r\n",
        "    REPET = VEC[i]\r\n",
        "    while i < N and REPET == VEC[i]:\r\n",
        "      i = i + 1\r\n",
        "\r\n",
        "else:\r\n",
        "  print(\"El número de elementos del arreglo es incorrecto\")"
      ],
      "execution_count": 50,
      "outputs": [
        {
          "output_type": "stream",
          "text": [
            "Ingrese el número de elementos del arreglo: 10\n",
            "Ingrese valor 1:1\n",
            "Ingrese valor 2:3\n",
            "Ingrese valor 3:3\n",
            "Ingrese valor 4:3\n",
            "Ingrese valor 5:10\n",
            "Ingrese valor 6:20\n",
            "Ingrese valor 7:20\n",
            "Ingrese valor 8:40\n",
            "Ingrese valor 9:43\n",
            "Ingrese valor 10:51\n",
            "Lista de numeros sin repeticiones: \n",
            "1\n",
            "3\n",
            "3\n",
            "3\n",
            "10\n",
            "20\n",
            "20\n",
            "40\n",
            "43\n",
            "51\n"
          ],
          "name": "stdout"
        }
      ]
    }
  ]
}