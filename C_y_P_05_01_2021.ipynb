{
  "nbformat": 4,
  "nbformat_minor": 0,
  "metadata": {
    "colab": {
      "name": "C y P 05/01/2021",
      "provenance": [],
      "authorship_tag": "ABX9TyO37714Ykfkf8KRSG3AEDv1",
      "include_colab_link": true
    },
    "kernelspec": {
      "name": "python3",
      "display_name": "Python 3"
    }
  },
  "cells": [
    {
      "cell_type": "markdown",
      "metadata": {
        "id": "view-in-github",
        "colab_type": "text"
      },
      "source": [
        "<a href=\"https://colab.research.google.com/github/AlanHDLR/cyp_2021/blob/main/C_y_P_05_01_2021.ipynb\" target=\"_parent\"><img src=\"https://colab.research.google.com/assets/colab-badge.svg\" alt=\"Open In Colab\"/></a>"
      ]
    },
    {
      "cell_type": "code",
      "metadata": {
        "colab": {
          "base_uri": "https://localhost:8080/"
        },
        "id": "cJ-Sy1rGjc6t",
        "outputId": "b106e95f-ab7c-4992-efca-3154d5f65b8a"
      },
      "source": [
        "sueldos = [0.0 for x in range(8)]\r\n",
        "print(sueldos)\r\n",
        "sueldos[1] = 12.3\r\n",
        "sueldos[2] = 32.3\r\n",
        "sueldos[3] = 43.3\r\n",
        "sueldos[4] = 11.3\r\n",
        "sueldos[5] = 77.3\r\n",
        "sueldos[6] = 88.3\r\n",
        "sueldos[7] = 99.3\r\n",
        "print(sueldos)\r\n",
        "sueldo = 0\r\n",
        "for i in range(7):\r\n",
        "  print(f\"El trabajador { [i] } gana $ {sueldos[i]}\")\r\n"
      ],
      "execution_count": 21,
      "outputs": [
        {
          "output_type": "stream",
          "text": [
            "[0.0, 0.0, 0.0, 0.0, 0.0, 0.0, 0.0, 0.0]\n",
            "[0.0, 12.3, 32.3, 43.3, 11.3, 77.3, 88.3, 99.3]\n",
            "El trabajador [0] gana $ 0.0\n",
            "El trabajador [1] gana $ 12.3\n",
            "El trabajador [2] gana $ 32.3\n",
            "El trabajador [3] gana $ 43.3\n",
            "El trabajador [4] gana $ 11.3\n",
            "El trabajador [5] gana $ 77.3\n",
            "El trabajador [6] gana $ 88.3\n"
          ],
          "name": "stdout"
        }
      ]
    },
    {
      "cell_type": "code",
      "metadata": {
        "colab": {
          "base_uri": "https://localhost:8080/"
        },
        "id": "I-j3v6zTo1hY",
        "outputId": "6bdb0937-578e-4861-9774-b07c05ee05d8"
      },
      "source": [
        "#Problema 4.1\r\n",
        "MAXIMO = 7\r\n",
        "sueldos = [ 0.0 for x in range(MAXIMO)]\r\n",
        "suma = 0.0\r\n",
        "promedio = 0.0\r\n",
        "\r\n",
        "for i in range(MAXIMO):\r\n",
        "  sueldos[i]= float(input(\"Dame el sueldo:$ \"))\r\n",
        "\r\n",
        "for i in range(MAXIMO):\r\n",
        "  print(f\"Trabajador {i+1}, gana:{sueldos[i]}\")\r\n",
        "\r\n",
        "for i in range(MAXIMO):\r\n",
        "  suma = suma + sueldos[i]\r\n",
        "\r\n",
        "promedio = suma /MAXIMO\r\n",
        "\r\n",
        "print(f\"El promedio de sueldos es:${promedio}\")\r\n",
        "\r\n",
        "for i in range(MAXIMO):\r\n",
        "  if sueldos [i] > promedio:\r\n",
        "    print(f\"El trabajador {i+1} tiene un sueldo mayor al promedio\")\r\n"
      ],
      "execution_count": 23,
      "outputs": [
        {
          "output_type": "stream",
          "text": [
            "Dame el sueldo:$ 4\n",
            "Dame el sueldo:$ 5\n",
            "Dame el sueldo:$ 4\n",
            "Dame el sueldo:$ 5\n",
            "Dame el sueldo:$ 4\n",
            "Dame el sueldo:$ 5\n",
            "Dame el sueldo:$ 4\n",
            "Trabajador 1, gana:4.0\n",
            "Trabajador 2, gana:5.0\n",
            "Trabajador 3, gana:4.0\n",
            "Trabajador 4, gana:5.0\n",
            "Trabajador 5, gana:4.0\n",
            "Trabajador 6, gana:5.0\n",
            "Trabajador 7, gana:4.0\n",
            "El promedio de sueldos es:$4.428571428571429\n",
            "El trabajador 2 tiene un sueldo mayor al promedio\n",
            "El trabajador 4 tiene un sueldo mayor al promedio\n",
            "El trabajador 6 tiene un sueldo mayor al promedio\n"
          ],
          "name": "stdout"
        }
      ]
    }
  ]
}