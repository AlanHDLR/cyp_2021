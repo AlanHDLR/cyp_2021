{
  "nbformat": 4,
  "nbformat_minor": 0,
  "metadata": {
    "colab": {
      "name": "Examen",
      "provenance": [],
      "authorship_tag": "ABX9TyP7bnHmgaZjBDOv/VB6RjBV",
      "include_colab_link": true
    },
    "kernelspec": {
      "name": "python3",
      "display_name": "Python 3"
    }
  },
  "cells": [
    {
      "cell_type": "markdown",
      "metadata": {
        "id": "view-in-github",
        "colab_type": "text"
      },
      "source": [
        "<a href=\"https://colab.research.google.com/github/AlanHDLR/cyp_2021/blob/main/Examen.ipynb\" target=\"_parent\"><img src=\"https://colab.research.google.com/assets/colab-badge.svg\" alt=\"Open In Colab\"/></a>"
      ]
    },
    {
      "cell_type": "code",
      "metadata": {
        "colab": {
          "base_uri": "https://localhost:8080/"
        },
        "id": "Gxrej7QjDYL5",
        "outputId": "ed19b275-d30b-4f6d-c96e-9eacdf17cd1e"
      },
      "source": [
        "cal = float(input(\"Dame tu calificación final:\"))\r\n",
        "\r\n",
        "if cal > 0 and cal < 10:\r\n",
        "  if cal >= 8:\r\n",
        "    print( \"Estas aprobado\" )\r\n",
        "\r\n",
        "  else:\r\n",
        "    print(\"Estas reprobado\")\r\n",
        "\r\n",
        "else:\r\n",
        "  print(\"La calificación es inalida\")"
      ],
      "execution_count": 13,
      "outputs": [
        {
          "output_type": "stream",
          "text": [
            "Dame tu calificación final:8\n",
            "Estas aprobado\n"
          ],
          "name": "stdout"
        }
      ]
    },
    {
      "cell_type": "markdown",
      "metadata": {
        "id": "hWMBxvAIKuIt"
      },
      "source": [
        "\r\n",
        "Las listas tambien son conocidas como \"arreglos\", estas son estucturas de datos \"lineales\", en las cuales se pude introducir cualquier tipo de dato y la casilla que utiliza se enúmera desde el 0 hasta el número deseado. Para que se pueda comprender un poco mejor, se pueden comparar contablas, es decir, culumnas y filas   \r\n",
        "\r\n"
      ]
    },
    {
      "cell_type": "code",
      "metadata": {
        "colab": {
          "base_uri": "https://localhost:8080/"
        },
        "id": "1G4OTbtML49V",
        "outputId": "b043f79e-b0f2-4f13-883a-5fdb0154738e"
      },
      "source": [
        "alturas_cm = [180,154,147,160,180]\r\n",
        "print(alturas_cm)"
      ],
      "execution_count": 16,
      "outputs": [
        {
          "output_type": "stream",
          "text": [
            "[180, 154, 147, 160, 180]\n"
          ],
          "name": "stdout"
        }
      ]
    },
    {
      "cell_type": "code",
      "metadata": {
        "colab": {
          "base_uri": "https://localhost:8080/"
        },
        "id": "TwWEe3vaNIFC",
        "outputId": "4ab62a5a-2dde-4915-98ee-351de0f34664"
      },
      "source": [
        "#Multiplicar 5\r\n",
        "\r\n",
        "mul = 10\r\n",
        "num = 0\r\n",
        "\r\n",
        "for i in range (mul):\r\n",
        "  num = 5 * (i+1) \r\n",
        "  print(f\"5 x {i+1} = {num}\")"
      ],
      "execution_count": 17,
      "outputs": [
        {
          "output_type": "stream",
          "text": [
            "5 x 1 = 5\n",
            "5 x 2 = 10\n",
            "5 x 3 = 15\n",
            "5 x 4 = 20\n",
            "5 x 5 = 25\n",
            "5 x 6 = 30\n",
            "5 x 7 = 35\n",
            "5 x 8 = 40\n",
            "5 x 9 = 45\n",
            "5 x 10 = 50\n"
          ],
          "name": "stdout"
        }
      ]
    },
    {
      "cell_type": "code",
      "metadata": {
        "colab": {
          "base_uri": "https://localhost:8080/"
        },
        "id": "L2YCrJreOj8L",
        "outputId": "04e6af91-8542-453c-9221-56bdfbb2df69"
      },
      "source": [
        "nombre_1 = input(print(\"Dame el primer nombre: \"))\r\n",
        "nombre_2 = input(print(\"Dame el segundo nombre: \"))\r\n",
        "lf1 = len(nombre_1)-1\r\n",
        "lf2 = len(nombre_2)-1\r\n",
        "\r\n",
        "\r\n",
        "if nombre_1[0] == nombre_2[0]:\r\n",
        "  print(\"Los nombres coinciden en la primer letra\")\r\n",
        "elif nombre_1[lf1] == nombre_2[lfl2]:\r\n",
        "  print(\"Los nombres coinciden en la segunda letra\")\r\n",
        "else:\r\n",
        "  print(\"Los nombres no coinciden\") "
      ],
      "execution_count": 22,
      "outputs": [
        {
          "output_type": "stream",
          "text": [
            "Dame el primer nombre: \n",
            "Daniel\n",
            "Dame el segundo nombre: \n",
            "Dario\n",
            "Los nombres coinciden en la primer letra\n"
          ],
          "name": "stdout"
        }
      ]
    },
    {
      "cell_type": "code",
      "metadata": {
        "colab": {
          "base_uri": "https://localhost:8080/"
        },
        "id": "DLshxz9ISGow",
        "outputId": "7f874fe4-773a-462f-d2fa-d1e40219463d"
      },
      "source": [
        "for i in range (100,0,-1):\r\n",
        "  print(i)"
      ],
      "execution_count": 23,
      "outputs": [
        {
          "output_type": "stream",
          "text": [
            "100\n",
            "99\n",
            "98\n",
            "97\n",
            "96\n",
            "95\n",
            "94\n",
            "93\n",
            "92\n",
            "91\n",
            "90\n",
            "89\n",
            "88\n",
            "87\n",
            "86\n",
            "85\n",
            "84\n",
            "83\n",
            "82\n",
            "81\n",
            "80\n",
            "79\n",
            "78\n",
            "77\n",
            "76\n",
            "75\n",
            "74\n",
            "73\n",
            "72\n",
            "71\n",
            "70\n",
            "69\n",
            "68\n",
            "67\n",
            "66\n",
            "65\n",
            "64\n",
            "63\n",
            "62\n",
            "61\n",
            "60\n",
            "59\n",
            "58\n",
            "57\n",
            "56\n",
            "55\n",
            "54\n",
            "53\n",
            "52\n",
            "51\n",
            "50\n",
            "49\n",
            "48\n",
            "47\n",
            "46\n",
            "45\n",
            "44\n",
            "43\n",
            "42\n",
            "41\n",
            "40\n",
            "39\n",
            "38\n",
            "37\n",
            "36\n",
            "35\n",
            "34\n",
            "33\n",
            "32\n",
            "31\n",
            "30\n",
            "29\n",
            "28\n",
            "27\n",
            "26\n",
            "25\n",
            "24\n",
            "23\n",
            "22\n",
            "21\n",
            "20\n",
            "19\n",
            "18\n",
            "17\n",
            "16\n",
            "15\n",
            "14\n",
            "13\n",
            "12\n",
            "11\n",
            "10\n",
            "9\n",
            "8\n",
            "7\n",
            "6\n",
            "5\n",
            "4\n",
            "3\n",
            "2\n",
            "1\n"
          ],
          "name": "stdout"
        }
      ]
    },
    {
      "cell_type": "code",
      "metadata": {
        "colab": {
          "base_uri": "https://localhost:8080/"
        },
        "id": "hzvEZOdAT2a0",
        "outputId": "946d9f3c-1b19-487b-88f3-bca70a7b1e8b"
      },
      "source": [
        "num_1 = input(\"Dame el primer número:\")\r\n",
        "num_2 = input(\"Dame el segundo número:\")\r\n",
        "\r\n",
        "if num_1 != num_2:\r\n",
        "  if num_1 > num_2:\r\n",
        "    print(f\"El primer número es mayor\")\r\n",
        "  else:\r\n",
        "    print(f\"El segundo número es mayor\")\r\n",
        "\r\n",
        "elif num_1 == num_2:\r\n",
        "  print(\"Los dos números son iguales\")"
      ],
      "execution_count": 27,
      "outputs": [
        {
          "output_type": "stream",
          "text": [
            "Dame el primer número:5\n",
            "Dame el segundo número:7\n",
            "El segundo número es mayor\n",
            "Dame el primer número:7\n",
            "Los dos números son iguales\n"
          ],
          "name": "stdout"
        }
      ]
    },
    {
      "cell_type": "code",
      "metadata": {
        "colab": {
          "base_uri": "https://localhost:8080/"
        },
        "id": "XNh2hKl1Wsbk",
        "outputId": "8bb744e7-fb0f-4849-d0e9-5f5c02cc7611"
      },
      "source": [
        "while(True):\r\n",
        "  voto = input(print(\"Ingresa la letra del partido por el que votaras (A, B o C): \"))\r\n",
        "  if voto==\"a\" or voto==\"b\" or voto==\"c\" or voto==\"A\" or voto==\"B\" or voto==\"C\":\r\n",
        "    break;\r\n",
        "  else:\r\n",
        "    print(\"No hay ningun partido así\")\r\n",
        "\r\n",
        "if voto == \"a\" or voto == \"A\":\r\n",
        "  print(\"Usted ha votado por el partido rojo.\")\r\n",
        "elif voto == \"b\" or voto == \"B\":\r\n",
        "  print(\"Usted ha votado por el partido verde.\")\r\n",
        "elif voto == \"c\" or voto == \"C\":\r\n",
        "  print(\"Usted ha votado por el partido azul.\")"
      ],
      "execution_count": 28,
      "outputs": [
        {
          "output_type": "stream",
          "text": [
            "Ingresa la letra del partido por el que votaras (A, B o C): \n",
            "A\n",
            "Usted ha votado por el partido rojo.\n"
          ],
          "name": "stdout"
        }
      ]
    },
    {
      "cell_type": "code",
      "metadata": {
        "colab": {
          "base_uri": "https://localhost:8080/"
        },
        "id": "jVaNTgucZEx3",
        "outputId": "5f0c16f7-d140-440f-c27c-3a9815b274a6"
      },
      "source": [
        "monto = float(input(print(\"Dame el dinero a invertir: $ \")))\r\n",
        "interes = monto + (monto * 0.03)\r\n",
        "print(f\"Al sumar los interes y el monto, nos da un total de: {interes}\")"
      ],
      "execution_count": 30,
      "outputs": [
        {
          "output_type": "stream",
          "text": [
            "Dame el dinero a invertir: $ \n",
            "10000\n",
            "Al sumar los interes y el monto, nos da un total de: 10300.0\n"
          ],
          "name": "stdout"
        }
      ]
    },
    {
      "cell_type": "code",
      "metadata": {
        "colab": {
          "base_uri": "https://localhost:8080/"
        },
        "id": "WEjOfZMWZ72A",
        "outputId": "adb3adde-0979-4be1-ee11-73741a9d9da6"
      },
      "source": [
        "autos = {\"Marca\": [\"FERRARI\",\"VOLKWAGEN\",\"TESLA\",\"AVEO\",\"BMW\"],\r\n",
        "          \"Modelo\": [\"HELL\",\"HOLLOW\",\"MP5\",\"HALO\",\"SUPREME\"],\r\n",
        "          \"Color\": [\"Azul\",\"Blanco\",\"Negro\",\"Amarillo\",\"Rojo\"],\r\n",
        "          \"N° Matricula\": [\"AJDAS\",\"MNSUW\",\"SJTSJ\",\"HDNCYE\",\"IENXT\"],\r\n",
        "          \"Precio\": [900000, 70340, 120000, 735000, 367000] \r\n",
        "          }\r\n",
        "for i in range(5):\r\n",
        "  print(f\"Para el {i+1}° carro: \")\r\n",
        "  print(autos[\"Marca\"][i])\r\n",
        "  print(autos[\"Modelo\"][i])\r\n",
        "  print(autos[\"Color\"][i])\r\n",
        "  print(autos[\"N° Matricula\"][i])\r\n",
        "  print(autos[\"Precio\"][i])"
      ],
      "execution_count": 32,
      "outputs": [
        {
          "output_type": "stream",
          "text": [
            "Para el 1° carro: \n",
            "FERRARI\n",
            "HELL\n",
            "Azul\n",
            "AJDAS\n",
            "900000\n",
            "Para el 2° carro: \n",
            "VOLKWAGEN\n",
            "HOLLOW\n",
            "Blanco\n",
            "MNSUW\n",
            "70340\n",
            "Para el 3° carro: \n",
            "TESLA\n",
            "MP5\n",
            "Negro\n",
            "SJTSJ\n",
            "120000\n",
            "Para el 4° carro: \n",
            "AVEO\n",
            "HALO\n",
            "Amarillo\n",
            "HDNCYE\n",
            "735000\n",
            "Para el 5° carro: \n",
            "BMW\n",
            "SUPREME\n",
            "Rojo\n",
            "IENXT\n",
            "367000\n"
          ],
          "name": "stdout"
        }
      ]
    },
    {
      "cell_type": "code",
      "metadata": {
        "colab": {
          "base_uri": "https://localhost:8080/"
        },
        "id": "nHrqJ9BSbht-",
        "outputId": "e3c6a133-153f-41da-d7a1-dc5bfdb9def3"
      },
      "source": [
        "vocal = \"aeiouAEIOU\"\r\n",
        "letra = \"\"\r\n",
        "val = False\r\n",
        "while(True):\r\n",
        "  letra = input(print(\"Ingresa una letra: \"))\r\n",
        "  if len(letra) > 1:\r\n",
        "    print(\"Ingresar solo una letra\")\r\n",
        "  else:\r\n",
        "    break\r\n",
        "rango = len(vocal)\r\n",
        "for i in range(0,len(vocal)):\r\n",
        "  if letra == vocal[i]:\r\n",
        "    val = True\r\n",
        "\r\n",
        "if val == True:\r\n",
        "  print(f\"La letra es una vocal.\")\r\n",
        "else:\r\n",
        "  print(f\"La letra es una consonante.\")"
      ],
      "execution_count": 33,
      "outputs": [
        {
          "output_type": "stream",
          "text": [
            "Ingresa una letra: \n",
            "a\n",
            "La letra es una vocal.\n"
          ],
          "name": "stdout"
        }
      ]
    }
  ]
}