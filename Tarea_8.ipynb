{
  "nbformat": 4,
  "nbformat_minor": 0,
  "metadata": {
    "colab": {
      "name": "Tarea 8",
      "provenance": [],
      "authorship_tag": "ABX9TyOB6mKFHd9GHZ40wQfM0cSg",
      "include_colab_link": true
    },
    "kernelspec": {
      "name": "python3",
      "display_name": "Python 3"
    }
  },
  "cells": [
    {
      "cell_type": "markdown",
      "metadata": {
        "id": "view-in-github",
        "colab_type": "text"
      },
      "source": [
        "<a href=\"https://colab.research.google.com/github/AlanHDLR/cyp_2021/blob/main/Tarea_8.ipynb\" target=\"_parent\"><img src=\"https://colab.research.google.com/assets/colab-badge.svg\" alt=\"Open In Colab\"/></a>"
      ]
    },
    {
      "cell_type": "code",
      "metadata": {
        "colab": {
          "base_uri": "https://localhost:8080/"
        },
        "id": "pJuatMO6JVON",
        "outputId": "970ae8ca-d38a-4edc-cb84-5db6e0e05c32"
      },
      "source": [
        "print(\"\\u25A9 \\u25A9 \\u25A9 \\u25A9 \\u25A9 \\u25A9 \\u25A9 \\u25A9 \\u25A9 \\u25A9 \\u25A9 \\u25A9 \\u25A9 \\u25A9 \\u25A9 \\u25A9 \\u25A9 \\u25A9 \\u25A9 \\u25A9 \\u25A9 \\u25A9 \\u25A9 \\u25A9\")\r\n",
        "print(\"\\u25A9                                                         \\u25A9\")\r\n",
        "print(\"\\u25A9           \\u2460       \\u2461             \\u2462       \\u2463\\u2463      \\u2463       \\u25A9\")    \r\n",
        "print(\"\\u25A9          \\u2460 \\u2460      \\u2461            \\u2462 \\u2462      \\u2463  \\u2463    \\u2463       \\u25A9\")\r\n",
        "print(\"\\u25A9         \\u2460   \\u2460     \\u2461           \\u2462   \\u2462     \\u2463   \\u2463   \\u2463       \\u25A9\")\r\n",
        "print(\"\\u25A9        \\u2460 \\u2460 \\u2460 \\u2460    \\u2461          \\u2462 \\u2462 \\u2462 \\u2462    \\u2463    \\u2463  \\u2463       \\u25A9\")\r\n",
        "print(\"\\u25A9       \\u2460       \\u2460   \\u2461         \\u2462       \\u2462   \\u2463     \\u2463 \\u2463       \\u25A9\")\r\n",
        "print(\"\\u25A9      \\u2460         \\u2460  \\u2461 \\u2461 \\u2461 \\u2461  \\u2462         \\u2462  \\u2463      \\u2463\\u2463       \\u25A9\")\r\n",
        "print(\"\\u25A9                                                         \\u25A9\")     \r\n",
        "print(\"\\u25A9 \\u25A9 \\u25A9 \\u25A9 \\u25A9 \\u25A9 \\u25A9 \\u25A9 \\u25A9 \\u25A9 \\u25A9 \\u25A9 \\u25A9 \\u25A9 \\u25A9 \\u25A9 \\u25A9 \\u25A9 \\u25A9 \\u25A9 \\u25A9 \\u25A9 \\u25A9 \\u25A9\")\r\n",
        "\r\n"
      ],
      "execution_count": 103,
      "outputs": [
        {
          "output_type": "stream",
          "text": [
            "▩ ▩ ▩ ▩ ▩ ▩ ▩ ▩ ▩ ▩ ▩ ▩ ▩ ▩ ▩ ▩ ▩ ▩ ▩ ▩ ▩ ▩ ▩ ▩\n",
            "▩                                                         ▩\n",
            "▩           ①       ②             ③       ④④      ④       ▩\n",
            "▩          ① ①      ②            ③ ③      ④  ④    ④       ▩\n",
            "▩         ①   ①     ②           ③   ③     ④   ④   ④       ▩\n",
            "▩        ① ① ① ①    ②          ③ ③ ③ ③    ④    ④  ④       ▩\n",
            "▩       ①       ①   ②         ③       ③   ④     ④ ④       ▩\n",
            "▩      ①         ①  ② ② ② ②  ③         ③  ④      ④④       ▩\n",
            "▩                                                         ▩\n",
            "▩ ▩ ▩ ▩ ▩ ▩ ▩ ▩ ▩ ▩ ▩ ▩ ▩ ▩ ▩ ▩ ▩ ▩ ▩ ▩ ▩ ▩ ▩ ▩\n"
          ],
          "name": "stdout"
        }
      ]
    }
  ]
}