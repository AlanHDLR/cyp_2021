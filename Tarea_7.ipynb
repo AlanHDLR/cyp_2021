{
  "nbformat": 4,
  "nbformat_minor": 0,
  "metadata": {
    "colab": {
      "name": "Tarea 7",
      "provenance": [],
      "authorship_tag": "ABX9TyMobYNVZPkGD2wGDPq8J5UQ",
      "include_colab_link": true
    },
    "kernelspec": {
      "name": "python3",
      "display_name": "Python 3"
    }
  },
  "cells": [
    {
      "cell_type": "markdown",
      "metadata": {
        "id": "view-in-github",
        "colab_type": "text"
      },
      "source": [
        "<a href=\"https://colab.research.google.com/github/AlanHDLR/cyp_2021/blob/main/Tarea_7.ipynb\" target=\"_parent\"><img src=\"https://colab.research.google.com/assets/colab-badge.svg\" alt=\"Open In Colab\"/></a>"
      ]
    },
    {
      "cell_type": "code",
      "metadata": {
        "colab": {
          "base_uri": "https://localhost:8080/"
        },
        "id": "bCwQ4RZ8IHXK",
        "outputId": "38967cfb-66f5-458f-f260-33a8f37c8371"
      },
      "source": [
        "P = int(input(\"Dame el número total de paises: \"))\r\n",
        "\r\n",
        "if P == 0 or P < 3:\r\n",
        "  print(\"El número minimo de paises necesarios es 3\")\r\n",
        "elif P > 35:\r\n",
        "  print(\"El número total de países en America es 35\")\r\n",
        "\r\n",
        "if P > 3 and P < 35:\r\n",
        "  N = int(input(\"Cuantos países seran para America del Norte: \"))\r\n",
        "  C = int(input(\"Cuantos países seran para America Central: \"))\r\n",
        "  S = int(input(\"Cuantos países seran para America del Sur: \")) \r\n",
        "  \r\n",
        "  Región = [\"del norte\",\"central\",\"del sur\"]\r\n",
        "  aux = 0\r\n",
        "  aux2 = 0\r\n",
        "  PN = [0 for x in range(N)]\r\n",
        "  PC = [0 for x in range(C)]\r\n",
        "  PS = [0 for x in range(S)]\r\n",
        "  Total = [0 for x in range(P)]\r\n",
        "  \r\n",
        "  for i in range(P):\r\n",
        "    Total[i]= str(input(f\"Dame el nombre del {i+1}° país correspondiente a America {Región[aux2]}: \"))\r\n",
        "    aux += 1\r\n",
        "    if aux2 == 0:\r\n",
        "      if aux >= N:\r\n",
        "        aux = 0\r\n",
        "        aux2 = 1\r\n",
        "      PN[aux] = Total[i]\r\n",
        "    elif aux2 == 1:\r\n",
        "      if aux >= C:\r\n",
        "        aux = 0\r\n",
        "        aux2 = 2\r\n",
        "      PC[aux] = Total[i]\r\n",
        "    elif aux2 == 2:\r\n",
        "      if aux >= S:\r\n",
        "        aux = 0\r\n",
        "      PS[aux] = Total[i]\r\n",
        "\r\n",
        "  print(f\"Paises de America del Norte:{sorted(PN)}\")\r\n",
        "  print(f\"Paises de America Central:{sorted(PC)}\")\r\n",
        "  print(f\"Paises de America del Sur::{sorted(PS)}\")\r\n",
        "  print(f\"Paises totales de America:{sorted(Total)}\")"
      ],
      "execution_count": 5,
      "outputs": [
        {
          "output_type": "stream",
          "text": [
            "Dame el número total de paises: 9\n",
            "Cuantos países seran para America del Norte: 2\n",
            "Cuantos países seran para America Central: 3\n",
            "Cuantos países seran para America del Sur: 4\n",
            "Dame el nombre del 1° país correspondiente a America del norte: U.S.A.\n",
            "Dame el nombre del 2° país correspondiente a America del norte: Canadá\n",
            "Dame el nombre del 3° país correspondiente a America central: México\n",
            "Dame el nombre del 4° país correspondiente a America central: Belice\n",
            "Dame el nombre del 5° país correspondiente a America central: El Salvador\n",
            "Dame el nombre del 6° país correspondiente a America del sur: Chile\n",
            "Dame el nombre del 7° país correspondiente a America del sur: Perú\n",
            "Dame el nombre del 8° país correspondiente a America del sur: Argentina\n",
            "Dame el nombre del 9° país correspondiente a America del sur: Brasil\n",
            "Paises de America del Norte:['Canadá', 'U.S.A.']\n",
            "Paises de America Central:['Belice', 'El Salvador', 'México']\n",
            "Paises de America del Sur::['Argentina', 'Brasil', 'Chile', 'Perú']\n",
            "Paises totales de America:['Argentina', 'Belice', 'Brasil', 'Canadá', 'Chile', 'El Salvador', 'México', 'Perú', 'U.S.A.']\n"
          ],
          "name": "stdout"
        }
      ]
    }
  ]
}