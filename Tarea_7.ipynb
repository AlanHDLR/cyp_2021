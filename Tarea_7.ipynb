{
  "nbformat": 4,
  "nbformat_minor": 0,
  "metadata": {
    "colab": {
      "name": "Tarea 7",
      "provenance": [],
      "authorship_tag": "ABX9TyNsfvw9OJMOZcwaslJ5cmrm",
      "include_colab_link": true
    },
    "kernelspec": {
      "name": "python3",
      "display_name": "Python 3"
    }
  },
  "cells": [
    {
      "cell_type": "markdown",
      "metadata": {
        "id": "view-in-github",
        "colab_type": "text"
      },
      "source": [
        "<a href=\"https://colab.research.google.com/github/AlanHDLR/cyp_2021/blob/main/Tarea_7.ipynb\" target=\"_parent\"><img src=\"https://colab.research.google.com/assets/colab-badge.svg\" alt=\"Open In Colab\"/></a>"
      ]
    },
    {
      "cell_type": "code",
      "metadata": {
        "colab": {
          "base_uri": "https://localhost:8080/"
        },
        "id": "PyObVbrRpkl4",
        "outputId": "ecb6e255-a6fd-4e06-f2ae-c63a679abaf9"
      },
      "source": [
        "#Problema 4.11\r\n",
        "\r\n",
        "P = int(input(\"Dame el número total de paises: \"))\r\n",
        "\r\n",
        "if P == 0 or P < 3:\r\n",
        "  print(\"El número minimo de paises necesarios es 3\")\r\n",
        "elif P > 35:\r\n",
        "  print(\"El número total de países en America es 35\")\r\n",
        "\r\n",
        "if P > 3 and P < 35:\r\n",
        "  N = int(input(\"Cuantos países seran para America del Norte: \"))\r\n",
        "  C = int(input(\"Cuantos países seran para America Central: \"))\r\n",
        "  S = int(input(\"Cuantos países seran para America del Sur: \")) \r\n",
        "  aux = N + C + S\r\n",
        "\r\n",
        "  Región = [\"Norte\",\"Central\",\"Sur\"]\r\n",
        "  aux = 0\r\n",
        "  aux2 = 0\r\n",
        "  PN = [0 for x in range(N)]\r\n",
        "  PC = [0 for x in range(C)]\r\n",
        "  PS = [0 for x in range(S)]\r\n",
        "  Total = [0 for x in range(P)]\r\n",
        "  \r\n",
        "  for i in range(P):\r\n",
        "    Total[i]= str(input(f\"Dame el nombre del {aux+1}° país de la región {Región[aux2]} de America: \"))\r\n",
        "    aux += 1\r\n",
        "    if aux2 == 0:\r\n",
        "      if aux >= N:\r\n",
        "        aux = 0\r\n",
        "        aux2 = 1\r\n",
        "      PN[aux] = Total[i]\r\n",
        "    elif aux2 == 1:\r\n",
        "      if aux >= C:\r\n",
        "        aux = 0\r\n",
        "        aux2 = 2\r\n",
        "      PC[aux] = Total[i]\r\n",
        "    elif aux2 == 2:\r\n",
        "      if aux >= S:\r\n",
        "        aux = 0\r\n",
        "      PS[aux] = Total[i]\r\n",
        "\r\n",
        "  print(f\"Paises de America del Norte:{sorted(PN)}\")\r\n",
        "  print(f\"Paises de America Central:{sorted(PC)}\")\r\n",
        "  print(f\"Paises de America del Sur::{sorted(PS)}\")\r\n",
        "  print(f\"Paises totales de America:{sorted(Total)}\")"
      ],
      "execution_count": 105,
      "outputs": [
        {
          "output_type": "stream",
          "text": [
            "Dame el número total de paises: 9\n",
            "Cuantos países seran para America del Norte: 2\n",
            "Cuantos países seran para America Central: 3\n",
            "Cuantos países seran para America del Sur: 4\n",
            "Dame el nombre del 1° país de la región Norte de America: U.S.A.\n",
            "Dame el nombre del 2° país de la región Norte de America: Canadá \n",
            "Dame el nombre del 1° país de la región Central de America: México\n",
            "Dame el nombre del 2° país de la región Central de America: Belice\n",
            "Dame el nombre del 3° país de la región Central de America: Panamá\n",
            "Dame el nombre del 1° país de la región Sur de America: Chile\n",
            "Dame el nombre del 2° país de la región Sur de America: Perú\n",
            "Dame el nombre del 3° país de la región Sur de America: Brasil\n",
            "Dame el nombre del 4° país de la región Sur de America: Argentina\n",
            "Paises de America del Norte:['Canadá ', 'U.S.A.']\n",
            "Paises de America Central:['Belice', 'México', 'Panamá']\n",
            "Paises de America del Sur::['Argentina', 'Brasil', 'Chile', 'Perú']\n",
            "Paises totales de America:['Argentina', 'Belice', 'Brasil', 'Canadá ', 'Chile', 'México', 'Panamá', 'Perú', 'U.S.A.']\n"
          ],
          "name": "stdout"
        }
      ]
    }
  ]
}