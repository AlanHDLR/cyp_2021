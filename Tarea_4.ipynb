{
  "nbformat": 4,
  "nbformat_minor": 0,
  "metadata": {
    "colab": {
      "name": "Tarea 4",
      "provenance": [],
      "authorship_tag": "ABX9TyPU/du2097qXDHqool3J7Au",
      "include_colab_link": true
    },
    "kernelspec": {
      "name": "python3",
      "display_name": "Python 3"
    }
  },
  "cells": [
    {
      "cell_type": "markdown",
      "metadata": {
        "id": "view-in-github",
        "colab_type": "text"
      },
      "source": [
        "<a href=\"https://colab.research.google.com/github/AlanHDLR/cyp_2021/blob/main/Tarea_4.ipynb\" target=\"_parent\"><img src=\"https://colab.research.google.com/assets/colab-badge.svg\" alt=\"Open In Colab\"/></a>"
      ]
    },
    {
      "cell_type": "code",
      "metadata": {
        "colab": {
          "base_uri": "https://localhost:8080/"
        },
        "id": "Yeilri3O7ekW",
        "outputId": "c5574265-d3e0-4bb5-f0ac-45e59f7e350e"
      },
      "source": [
        "#Ejercicio 2.4\n",
        "\n",
        "sue = float(input(\"Dame el valor de tu sueldo:$ \"))\n",
        "\n",
        "if (sue<1000):\n",
        "  inf = sue * 1.15\n",
        "  print(\"Tu nuevo sueldo es:\",inf)\n",
        "\n",
        "else:\n",
        "  mas = sue * 1.12\n",
        "  print(\"Tu nuevo sueldo es:\",mas)"
      ],
      "execution_count": 3,
      "outputs": [
        {
          "output_type": "stream",
          "text": [
            "Dame el valor de tu sueldo:$ 1000\n",
            "Tu nuevo sueldo es: 1120.0\n"
          ],
          "name": "stdout"
        }
      ]
    },
    {
      "cell_type": "code",
      "metadata": {
        "colab": {
          "base_uri": "https://localhost:8080/"
        },
        "id": "qlcJhlhC9U19",
        "outputId": "2da13113-1d82-4038-c1ac-255a33dfd9bd"
      },
      "source": [
        "#Ejercicio 2.8\n",
        "\n",
        "cate = int(input(\"Dame tu categoria:\"))\n",
        "sue = float(input(\"Dame el valor de tu sueldo:$\"))\n",
        "\n",
        "if (cate == 1):\n",
        "  sue1 = sue * 1.15\n",
        "  print(\"Tu nuevo sueldo es:$ \", sue1)\n",
        "\n",
        "elif (cate == 2):\n",
        "  sue2 = sue * 1.10\n",
        "  print(\"Tu nuevo sueldo es:$ \", sue2)\n",
        "\n",
        "elif (cate == 3):\n",
        "  sue3 = sue * 1.08\n",
        "  print(\"Tu nuevo sueldo es:$ \", sue3)\n",
        " \n",
        "else:\n",
        "  sue4 = sue * 1.07\n",
        "  print(\"tu nuevo sueldo es:$ \", sue4)\n",
        "\n",
        "\n",
        "\n",
        "\n"
      ],
      "execution_count": 27,
      "outputs": [
        {
          "output_type": "stream",
          "text": [
            "Dame tu categoria:3\n",
            "Dame el valor de tu sueldo:$3800\n",
            "Tu nuevo sueldo es:$  4104.0\n"
          ],
          "name": "stdout"
        }
      ]
    }
  ]
}