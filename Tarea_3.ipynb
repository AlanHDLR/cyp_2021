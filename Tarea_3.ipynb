{
  "nbformat": 4,
  "nbformat_minor": 0,
  "metadata": {
    "colab": {
      "name": "Tarea 3  ",
      "provenance": [],
      "collapsed_sections": [],
      "include_colab_link": true
    },
    "kernelspec": {
      "name": "python3",
      "display_name": "Python 3"
    }
  },
  "cells": [
    {
      "cell_type": "markdown",
      "metadata": {
        "id": "view-in-github",
        "colab_type": "text"
      },
      "source": [
        "<a href=\"https://colab.research.google.com/github/AlanHDLR/cyp_2021/blob/main/Tarea_3.ipynb\" target=\"_parent\"><img src=\"https://colab.research.google.com/assets/colab-badge.svg\" alt=\"Open In Colab\"/></a>"
      ]
    },
    {
      "cell_type": "code",
      "metadata": {
        "id": "48hi2-ty2X3v",
        "colab": {
          "base_uri": "https://localhost:8080/"
        },
        "outputId": "7de3306b-7eb5-4387-da4c-0d8652ff7814"
      },
      "source": [
        "#Ejercicio 1.1: El cambio a recibir\n",
        " \n",
        "PREPAGO = 0\n",
        "PAGO = 0\n",
        "\n",
        "PREPAGO = float(input(\"Precio del producto:$\"))\n",
        "PAGO = float(input(\"Dinero recibido: $\"))\n",
        "\n",
        "5DEVO = (PAGO - PREPAGO)\n",
        "\n",
        "if (PAGO < PREPAGO):\n",
        "  print(\"Le acaban de robar\")\n",
        "else:\n",
        "  print( f\"El cambio es: ${DEVO}\" )"
      ],
      "execution_count": 58,
      "outputs": [
        {
          "output_type": "stream",
          "text": [
            "Precio del producto:$4.15\n",
            "Dinero recibido: $50\n",
            "El cambio es: $45.85\n"
          ],
          "name": "stdout"
        }
      ]
    },
    {
      "cell_type": "code",
      "metadata": {
        "id": "ZAd1o7q9CnK6",
        "colab": {
          "base_uri": "https://localhost:8080/"
        },
        "outputId": "8db79c8e-e92c-4849-e1b7-5fba88d0990f"
      },
      "source": [
        "#Ejercicio 1.2: La superficie de un triangulo\n",
        "\n",
        "BASE = 0\n",
        "ALTURA = 0\n",
        "\n",
        "BASE = float(input( \"Dame la base del triangulo: \" ) )\n",
        "ALTURA = float(input( \"Dame la altura del triangulo: \" ) )\n",
        "\n",
        "SUP = ( (BASE * ALTURA ) / 2) \n",
        "\n",
        "print(f\"La superficie de el trinagulo es: {SUP}\")"
      ],
      "execution_count": 57,
      "outputs": [
        {
          "output_type": "stream",
          "text": [
            "Dame la base del triangulo: 8.50\n",
            "Dame la altura del triangulo: 7.20\n",
            "La superficie de el trinagulo es: 30.6\n"
          ],
          "name": "stdout"
        }
      ]
    },
    {
      "cell_type": "code",
      "metadata": {
        "colab": {
          "base_uri": "https://localhost:8080/"
        },
        "id": "jw2-m8kINCd5",
        "outputId": "690c903f-4037-425a-9b12-a71474d97cab"
      },
      "source": [
        "#Ejercico 1.3 /1 : Peso y altura del dino\n",
        "#Checar el ejercicio, maneja unidades diferntes en los ejemplos\n",
        "#Ejercicio tal esta planteado en el problema\n",
        "\n",
        "NOM = 0\n",
        "PES = 0\n",
        "LONG = 0\n",
        "\n",
        "NOM = input( \"Dame el nombre del dinosaurio: \" )\n",
        "PES = float(input( \"Dame el peso del dinosaurio en libras: \" ))\n",
        "LON = float(input( \"Dame la longitud del dinosaurio en pies: \" ))\n",
        "\n",
        "PESKIL = ( PES * 0.453592 )\n",
        "LONMET = ( LON *  0.3047 )\n",
        "PESTON = ( PESKIL / 1000 )\n",
        "\n",
        "print(f\"Un {NOM} pesa {PESKIL} kilogramos o {PESTON} toneladas y mide {LONMET} metros de largo.\")\n"
      ],
      "execution_count": 103,
      "outputs": [
        {
          "output_type": "stream",
          "text": [
            "Dame el nombre del dinosaurio: PLATE05AURU5\n",
            "Dame el peso del dinosaurio en libras: 5\n",
            "Dame la longitud del dinosaurio en pies: 30\n",
            "Un PLATE05AURU5 pesa 2.26796 kilogramos o 0.00226796 toneladas y mide 9.141 metros de largo.\n"
          ],
          "name": "stdout"
        }
      ]
    },
    {
      "cell_type": "code",
      "metadata": {
        "colab": {
          "base_uri": "https://localhost:8080/"
        },
        "id": "Fn627DaTTo6c",
        "outputId": "a3151117-04cb-4709-c0dc-941684324a01"
      },
      "source": [
        "#Ejercico 1.3 /2: Peso y altura del dino\n",
        "#Checar el ejercicio, maneja unidades diferntes en los ejemplos\n",
        "#Ejercicio para que salgan las cantidades del ejemplo\n",
        "\n",
        "NOM = 0\n",
        "PES = 0\n",
        "LONG = 0\n",
        "\n",
        "NOM = input( \"Dame el nombre del dinosaurio: \" )\n",
        "PES = float(input( \"Dame el peso del dinosaurio en toneladas: \" ))\n",
        "LON = float(input( \"Dame la longitud del dinosaurio en pies: \" ))\n",
        "\n",
        "PESKIL =  ( PES * 1000 )\n",
        "LONMET =  ( LON *  0.3047 )\n",
        "PESLIB =  ( PES * 2240 )\n",
        "\n",
        "print(f\"Un {NOM} pesa {PESKIL} kilogramos o {PESLIB} libras y mide {LONMET} metros de largo.\")"
      ],
      "execution_count": 104,
      "outputs": [
        {
          "output_type": "stream",
          "text": [
            "Dame el nombre del dinosaurio: PLATE05AURU5\n",
            "Dame el peso del dinosaurio en toneladas: 5\n",
            "Dame la longitud del dinosaurio en pies: 30\n",
            "Un PLATE05AURU5 pesa 5000.0 kilogramos o 11200.0 libras y mide 9.141 metros de largo.\n"
          ],
          "name": "stdout"
        }
      ]
    },
    {
      "cell_type": "code",
      "metadata": {
        "colab": {
          "base_uri": "https://localhost:8080/"
        },
        "id": "zeJnA4BvYOJo",
        "outputId": "8d8154d9-25b6-41ed-f9ab-1b83135c695d"
      },
      "source": [
        "#Ejercicio 1.4: Pago de la gasolina\n",
        "\n",
        "GAL = 0\n",
        "TOTAL = 0\n",
        "\n",
        "GAL = float(input(\"Dame la cantidad de galones de gasolina: \"))\n",
        "\n",
        "TOTAL = ( (GAL * 3.785 ) * 8.20 )\n",
        "\n",
        "print(f\"El precio a pagar es de: ${TOTAL}\")"
      ],
      "execution_count": 105,
      "outputs": [
        {
          "output_type": "stream",
          "text": [
            "Dame la cantidad de galones de gasolina: 15.90\n",
            "El precio a pagar es de: $493.48830000000004\n"
          ],
          "name": "stdout"
        }
      ]
    },
    {
      "cell_type": "code",
      "metadata": {
        "colab": {
          "base_uri": "https://localhost:8080/"
        },
        "id": "50NFyDxSZz97",
        "outputId": "06cd0ab5-31bb-4ec6-9e06-65cf944222de"
      },
      "source": [
        "#Ejercicio 1.5: Radio y volumen de un cilindro\n",
        "\n",
        "RADIO = 0\n",
        "ALTU = 0\n",
        "Pi = 3.141592\n",
        "\n",
        "RADIO = float(input( \"Dame el radio del cilindro: \" ) )\n",
        "ALTU= float(input( \"Dame la alutra del cilindro: \" ))\n",
        "\n",
        "AREA = ( 2 * Pi * RADIO * ALTU )\n",
        "VOLUMEN = ( Pi * (RADIO ** 2 ) * ALTU )\n",
        "\n",
        "print(f\"El area del cilindro es {AREA} y su volumen es {VOLUMEN}\")"
      ],
      "execution_count": 106,
      "outputs": [
        {
          "output_type": "stream",
          "text": [
            "Dame el radio del cilindro: 69.30\n",
            "Dame la alutra del cilindro: 72.40\n",
            "El area del cilindro es 31524.744746880006 y su volumen es 1092332.405479392\n"
          ],
          "name": "stdout"
        }
      ]
    },
    {
      "cell_type": "code",
      "metadata": {
        "colab": {
          "base_uri": "https://localhost:8080/"
        },
        "id": "AZ5g735IdKrk",
        "outputId": "dbc4c799-fad8-4689-db01-f874c392f02c"
      },
      "source": [
        "#Ejercicio 1.6: Número de segundos en 1 día\n",
        "\n",
        "SEG = 0\n",
        "\n",
        "SEG = int(input( \"Dame el número de dias a convertir en segundos: \" ))\n",
        "\n",
        "DIASSEG = ( SEG * 24 * 60 * 60 )\n",
        "\n",
        "if (SEG < 2):\n",
        "  print(f\"El número de segundos en {SEG} dia es de {DIASSEG}s\")\n",
        "else:\n",
        "  print(f\"El número de segundos en {SEG} dias es de {DIASSEG}s\")"
      ],
      "execution_count": 107,
      "outputs": [
        {
          "output_type": "stream",
          "text": [
            "Dame el número de dias a convertir en segundos: 7\n",
            "El número de segundos en 7 dias es de 604800s\n"
          ],
          "name": "stdout"
        }
      ]
    }
  ]
}